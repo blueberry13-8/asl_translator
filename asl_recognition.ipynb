{
 "cells": [
  {
   "cell_type": "markdown",
   "metadata": {},
   "source": [
    "# TODO\n",
    "\n",
    "- Convert classes from text to tensor array with size 100\n",
    "- Complete train loop (it is not working now) due to problem above\n",
    "- Find good LSTM architecture\n",
    "- Check how fast is our approach with per frame check"
   ]
  },
  {
   "cell_type": "markdown",
   "metadata": {},
   "source": [
    "## Web cum test"
   ]
  },
  {
   "cell_type": "code",
   "execution_count": 4,
   "metadata": {
    "pycharm": {
     "name": "#%%\n"
    }
   },
   "outputs": [],
   "source": [
    "import time\n",
    "import cv2\n",
    "from cvzone.HandTrackingModule import HandDetector\n",
    "from cvzone.PoseModule import PoseDetector\n",
    "\n",
    "\n",
    "def webcum():\n",
    "    cap = cv2.VideoCapture(0)\n",
    "    hands_detector = HandDetector()\n",
    "    pose_detector = PoseDetector()\n",
    "    while True:\n",
    "        success, img = cap.read()\n",
    "        hands, img1 = hands_detector.findHands(img)\n",
    "        print(hands)\n",
    "        img2 = pose_detector.findPose(img)\n",
    "        lmList, bboxInfo = pose_detector.findPosition(img, bboxWithHands=False)\n",
    "        print(lmList)\n",
    "        print()\n",
    "        time.sleep(2)\n",
    "        # cv2.imshow(\"CUM\", img)\n",
    "        # cv2.waitKey(1)"
   ]
  },
  {
   "cell_type": "markdown",
   "metadata": {},
   "source": [
    "## Device Stuff"
   ]
  },
  {
   "cell_type": "code",
   "execution_count": 28,
   "metadata": {},
   "outputs": [
    {
     "name": "stdout",
     "output_type": "stream",
     "text": [
      "cpu\n"
     ]
    }
   ],
   "source": [
    "import torch\n",
    "\n",
    "#Set up device\n",
    "use_cuda = torch.cuda.is_available()\n",
    "device = torch.device(\"cuda\" if use_cuda else \"cpu\")\n",
    "print(device)"
   ]
  },
  {
   "cell_type": "markdown",
   "metadata": {},
   "source": [
    "## Dataset"
   ]
  },
  {
   "cell_type": "code",
   "execution_count": 3,
   "metadata": {},
   "outputs": [],
   "source": [
    "import json\n",
    "import os\n",
    "import torch\n",
    "from torch.utils.data import Dataset, DataLoader\n",
    "from cvzone.HandTrackingModule import HandDetector\n",
    "from cvzone.PoseModule import PoseDetector\n",
    "import cv2"
   ]
  },
  {
   "cell_type": "code",
   "execution_count": 34,
   "metadata": {
    "id": "mo19lj56lIbi"
   },
   "outputs": [],
   "source": [
    "class ASLDataset(Dataset):\n",
    "    \"\"\"\n",
    "    A custom dataset class for loading American Sign Language (ASL) videos and their corresponding labels.\n",
    "\n",
    "    Args:\n",
    "        arrays_folder (str): Path to the folder containing the .pt arrays (converted videos).\n",
    "        name_with_label (dict): A dictionary mapping video names to their labels.\n",
    "        classes (list): A list of class names.\n",
    "\n",
    "    Attributes:\n",
    "        arrays_folder (str): Path to the folder containing the .pt arrays (converted videos).\n",
    "        name_with_label (dict): A dictionary mapping video names to their labels.\n",
    "        arrays_names (list): A list of .pt tensor arrays names.\n",
    "        classes (list): A list of class names.\n",
    "    \"\"\"\n",
    "\n",
    "    def __init__(self, arrays_folder, name_with_label, classes, max_frame_count):\n",
    "        self.arrays_folder = arrays_folder\n",
    "        self.name_with_label = name_with_label\n",
    "        self.arrays_names = list(self.name_with_label.keys())\n",
    "        self.classes = classes\n",
    "        self.max_frame_count = max_frame_count\n",
    "\n",
    "        self.default_frame = [0] * (21 * 3 * 2 + 33 * 3)\n",
    "        # Load videos\n",
    "        self.tensor_sequences = self._load_all_videos()\n",
    "\n",
    "    def _load_all_videos(self):\n",
    "        \"\"\"\n",
    "        Loads all tensors in advance.\n",
    "\n",
    "        Returns:\n",
    "            list[torch.tensor]: List of tensors.\n",
    "        \"\"\"\n",
    "\n",
    "        tensor_sequences = []\n",
    "        \n",
    "        for index in range(len(self.arrays_names)):\n",
    "            array_path = self.arrays_folder + '/' + self.arrays_names[index] + '.pt'\n",
    "            # Open the video file using OpenCV\n",
    "            tensor = torch.load(array_path)\n",
    "            \n",
    "            pad_right = [self.default_frame for _ in range(0, self.max_frame_count - tensor.shape[0])]\n",
    "            pad_right = torch.tensor(pad_right)\n",
    "            tensor_sequences.append(torch.cat((tensor, pad_right)))\n",
    "\n",
    "        return tensor_sequences\n",
    "        \n",
    "    def __len__(self):\n",
    "        \"\"\"\n",
    "        Returns the number of videos in the dataset.\n",
    "\n",
    "        Returns:\n",
    "            int: The number of videos in the dataset.\n",
    "        \"\"\"\n",
    "        return len(self.arrays_names)\n",
    "\n",
    "    def __getitem__(self, index):\n",
    "        \"\"\"\n",
    "        Retrieves a video and its corresponding label from the dataset.\n",
    "\n",
    "        Args:\n",
    "            index (int): The index of the video to retrieve.\n",
    "\n",
    "        Returns:\n",
    "            tuple: A tuple containing the video frames as a PyTorch tensor and the label.\n",
    "        \"\"\"\n",
    "\n",
    "\n",
    "        return self.tensor_sequences[index].float(), self.name_with_label[self.arrays_names[index]][0]\n"
   ]
  },
  {
   "cell_type": "code",
   "execution_count": 35,
   "metadata": {
    "pycharm": {
     "name": "#%%\n"
    }
   },
   "outputs": [],
   "source": [
    "def read_preprocess_json(json_name, videos_root):\n",
    "    \"\"\"\n",
    "    Read json and separate videos on predefined subsets(train, val, test). Check for existence of videos.\n",
    "\n",
    "    :param json_name: path or name of json file in format {'video_name.mp4': {'subset': 'train', 'action': [class_num,\n",
    "    start_frame, end_frame]}}\n",
    "    :param videos_root: root folder of all videos\n",
    "    :return: train, validation and test dictionaries in format {'video_name.mp4': [class_num, start_frame, end_frame]}\n",
    "    \"\"\"\n",
    "    videos = json.load(open(json_name))\n",
    "    train, val, test = dict(), dict(), dict()\n",
    "    for name in os.listdir(videos_root):\n",
    "        name = name[:-4]\n",
    "        if videos.get(name) is None:\n",
    "            continue\n",
    "        if videos[name]['subset'] == 'train':\n",
    "            train[name] = videos[name]['action']\n",
    "        elif videos[name]['subset'] == 'val':\n",
    "            val[name] = videos[name]['action']\n",
    "        elif videos[name]['subset'] == 'test':\n",
    "            test[name] = videos[name]['action']\n",
    "    return train, val, test"
   ]
  },
  {
   "cell_type": "code",
   "execution_count": 36,
   "metadata": {},
   "outputs": [],
   "source": [
    "def read_classes(path):\n",
    "    classes = dict()\n",
    "    with open(path, 'r') as file:\n",
    "        for line in file:\n",
    "            line = line.strip().split('\\t')\n",
    "            key = int(line[0])\n",
    "            value = line[1]\n",
    "            classes[key] = value\n",
    "    return classes"
   ]
  },
  {
   "cell_type": "code",
   "execution_count": 37,
   "metadata": {},
   "outputs": [
    {
     "name": "stdout",
     "output_type": "stream",
     "text": [
      "Maximum length of video in frames in current dataset is 195\n"
     ]
    }
   ],
   "source": [
    "def get_maximum_frame_count(arrays_root):\n",
    "    max_len = 0\n",
    "    for name in os.listdir(arrays_root):\n",
    "        full_path = os.path.join(arrays_root, name)\n",
    "        tensor = torch.load(full_path)\n",
    "        max_len = max(max_len, tensor.shape[0])\n",
    "    return max_len\n",
    "max_frame_count = get_maximum_frame_count(\"point_arrays\")\n",
    "print(f\"Maximum length of video in frames in current dataset is {max_frame_count}\")"
   ]
  },
  {
   "cell_type": "code",
   "execution_count": 62,
   "metadata": {
    "pycharm": {
     "name": "#%%\n"
    }
   },
   "outputs": [
    {
     "name": "stdout",
     "output_type": "stream",
     "text": [
      "2000\n"
     ]
    }
   ],
   "source": [
    "train, val, test = read_preprocess_json('wlasl_dataset/nslt_100.json', 'wlasl_dataset/videos')\n",
    "classes = read_classes('wlasl_dataset/wlasl_class_list.txt')\n",
    "\n",
    "train_dataset = ASLDataset('point_arrays', train, classes, max_frame_count)\n",
    "val_dataset = ASLDataset('point_arrays', val, classes, max_frame_count)\n",
    "test_dataset = ASLDataset('point_arrays', test, classes, max_frame_count)"
   ]
  },
  {
   "cell_type": "code",
   "execution_count": 39,
   "metadata": {},
   "outputs": [
    {
     "name": "stdout",
     "output_type": "stream",
     "text": [
      "torch.Size([195, 225])\n"
     ]
    }
   ],
   "source": [
    "print(train_dataset[1][0].shape)"
   ]
  },
  {
   "cell_type": "code",
   "execution_count": 40,
   "metadata": {},
   "outputs": [],
   "source": [
    "# Create dataloaders\n",
    "\n",
    "batch_size = 4\n",
    "\n",
    "train_dataloader = DataLoader(train_dataset, batch_size=batch_size, shuffle=True)\n",
    "val_dataloader = DataLoader(val_dataset, batch_size=batch_size, shuffle=True)\n",
    "test_dataloader = DataLoader(test_dataset, batch_size=batch_size, shuffle=False)"
   ]
  },
  {
   "cell_type": "markdown",
   "metadata": {
    "pycharm": {
     "name": "#%%\n"
    }
   },
   "source": [
    "## Model"
   ]
  },
  {
   "cell_type": "code",
   "execution_count": 57,
   "metadata": {},
   "outputs": [],
   "source": [
    "import torch.nn as nn\n",
    "\n",
    "class SequenceModel(nn.Module):\n",
    "    def __init__(self, input_size=1662) -> None:\n",
    "        super().__init__()\n",
    "        self.lstm = nn.Sequential(\n",
    "            nn.LSTM(input_size, 256, 3, batch_first=True), # TODO: Разобраться с LSTM в pytorch\n",
    "        )\n",
    "        self.linear = nn.Sequential(\n",
    "            nn.Linear(256, 128),\n",
    "            nn.ReLU(),\n",
    "            nn.Linear(128, 100),\n",
    "            nn.Softmax(dim=1),\n",
    "        )\n",
    "\n",
    "    def forward(self, x):\n",
    "        x, _ = self.lstm(x)\n",
    "        x = self.linear(x)\n",
    "\n",
    "        return x"
   ]
  },
  {
   "cell_type": "code",
   "execution_count": 58,
   "metadata": {},
   "outputs": [
    {
     "data": {
      "text/plain": [
       "SequenceModel(\n",
       "  (lstm): Sequential(\n",
       "    (0): LSTM(225, 64, num_layers=3, batch_first=True)\n",
       "  )\n",
       "  (linear): Sequential(\n",
       "    (0): Linear(in_features=64, out_features=64, bias=True)\n",
       "    (1): ReLU()\n",
       "    (2): Linear(in_features=64, out_features=32, bias=True)\n",
       "    (3): Softmax(dim=1)\n",
       "  )\n",
       ")"
      ]
     },
     "execution_count": 58,
     "metadata": {},
     "output_type": "execute_result"
    }
   ],
   "source": [
    "model = SequenceModel(input_size=225)\n",
    "model"
   ]
  },
  {
   "cell_type": "markdown",
   "metadata": {},
   "source": [
    "## Training"
   ]
  },
  {
   "cell_type": "code",
   "execution_count": 59,
   "metadata": {},
   "outputs": [],
   "source": [
    "from sklearn.metrics import f1_score, accuracy_score\n",
    "from tqdm import tqdm\n",
    "\n",
    "\n",
    "def train_model(model: nn.Module, epochs: int, criterion, optimizer):\n",
    "    \"\"\"\n",
    "    Function that trains model using number of epochs, loss function, optimizer.\n",
    "    Can use validation or test data set for evaluation.\n",
    "    Calculates f1 score.\n",
    "\n",
    "    Parameter\n",
    "    ---------\n",
    "    model : nn.Module\n",
    "      Model to train.\n",
    "    epochs: int\n",
    "      Number of train epochs\n",
    "    criterion\n",
    "      The loss function from pytorch\n",
    "    optimizer\n",
    "      The optimizer from pytorch\n",
    "    \"\"\"\n",
    "\n",
    "    # Train the model\n",
    "    for epoch in range(epochs):\n",
    "        model.train()\n",
    "\n",
    "        #\n",
    "        predicted_train = []\n",
    "        true_train = []\n",
    "\n",
    "        train_loss = 0.0\n",
    "\n",
    "        bar = tqdm(train_dataloader)\n",
    "        iterations = 0\n",
    "\n",
    "        for inputs, outputs in bar:\n",
    "            # Zero the gradients\n",
    "            optimizer.zero_grad()\n",
    "\n",
    "            # Forward pass\n",
    "            predictions = model(inputs.to(device))\n",
    "            loss = criterion(predictions, outputs.to(device))\n",
    "            train_loss += loss.item()\n",
    "\n",
    "            # Backward pass\n",
    "            loss.backward()\n",
    "            optimizer.step()\n",
    "\n",
    "            # Get predicted classes and true classes from data\n",
    "            for item in predictions:\n",
    "                predicted_train.append(int(torch.argmax(item).cpu().numpy()))\n",
    "            for item in outputs:\n",
    "                true_train.append(int(torch.argmax(item).cpu().numpy()))\n",
    "            iterations += 1\n",
    "            bar.set_postfix(({\"loss\": f\"{train_loss/(iterations*train_dataloader.batch_size)}\"}))\n",
    "\n",
    "        # Computing loss\n",
    "        train_loss /= len(train_dataset)\n",
    "        # Computing f1 score\n",
    "        train_f1 = f1_score(true_train, predicted_train, average=\"macro\")\n",
    "\n",
    "        # Printing information in the end of train loop\n",
    "        test_loss, test_f1 = test_model(model, criterion, test_dataloader)\n",
    "        print(f\"Epoch {epoch+1} train (loss: {train_loss:.4f}, f1 score: {train_f1:.4f}) test (loss: {test_loss:.4f}, f1 score: {test_f1:.4f})\")\n",
    "\n",
    "\n",
    "def test_model(model: nn.Module, criterion, test_dataloader: DataLoader):\n",
    "    \"\"\"\n",
    "    Function that evaluates model on specified dataloader\n",
    "    by specified loss function.\n",
    "\n",
    "    Parameter\n",
    "    ---------\n",
    "    model : nn.Module\n",
    "      Model to train.\n",
    "    criterion\n",
    "      The loss function from pytorch\n",
    "    test_dataloader: DataLoader\n",
    "      The dataset for testing model\n",
    "\n",
    "    Returns\n",
    "    -------\n",
    "    float: loss of model on given dataset\n",
    "    float: f1 score of model on given dataset\n",
    "    \"\"\"\n",
    "\n",
    "    model.eval()\n",
    "\n",
    "    # Test loss value\n",
    "    test_loss = 0.0\n",
    "\n",
    "    # Lists for calculation f1 score\n",
    "    predicted_test = []\n",
    "    true_test = []\n",
    "\n",
    "    with torch.no_grad():\n",
    "        for inputs, outputs in test_dataloader:\n",
    "\n",
    "            # Forward pass\n",
    "            predictions = model(inputs.to(device))\n",
    "            test_loss += criterion(predictions, outputs.to(device))\n",
    "\n",
    "            # Get predicted classes and true classes from data\n",
    "            for item in predictions:\n",
    "                predicted_test.append(int(torch.argmax(item).cpu().numpy()))\n",
    "            for item in outputs:\n",
    "                true_test.append(int(torch.argmax(item).cpu().numpy()))\n",
    "\n",
    "    # Computation of test loss\n",
    "    test_loss /= len(test_dataloader)\n",
    "\n",
    "    # Computation of f1 score\n",
    "    test_f1 = f1_score(true_test, predicted_test, average=\"macro\")\n",
    "    test_accuracy = accuracy_score(true_test, predicted_test)\n",
    "    return test_loss.item(), test_f1, test_accuracy\n"
   ]
  },
  {
   "cell_type": "code",
   "execution_count": 60,
   "metadata": {},
   "outputs": [
    {
     "name": "stderr",
     "output_type": "stream",
     "text": [
      "  0%|                                                                                          | 0/187 [00:00<?, ?it/s]\n"
     ]
    },
    {
     "ename": "RuntimeError",
     "evalue": "Expected target size [4, 32], got [4]",
     "output_type": "error",
     "traceback": [
      "\u001b[1;31m---------------------------------------------------------------------------\u001b[0m",
      "\u001b[1;31mRuntimeError\u001b[0m                              Traceback (most recent call last)",
      "Cell \u001b[1;32mIn[60], line 3\u001b[0m\n\u001b[0;32m      1\u001b[0m criterion \u001b[38;5;241m=\u001b[39m nn\u001b[38;5;241m.\u001b[39mCrossEntropyLoss()\n\u001b[0;32m      2\u001b[0m optimizer \u001b[38;5;241m=\u001b[39m torch\u001b[38;5;241m.\u001b[39moptim\u001b[38;5;241m.\u001b[39mAdam(model\u001b[38;5;241m.\u001b[39mparameters(), lr\u001b[38;5;241m=\u001b[39m\u001b[38;5;241m0.01\u001b[39m)\n\u001b[1;32m----> 3\u001b[0m \u001b[43mtrain_model\u001b[49m\u001b[43m(\u001b[49m\u001b[43mmodel\u001b[49m\u001b[43m,\u001b[49m\u001b[43m \u001b[49m\u001b[38;5;241;43m10\u001b[39;49m\u001b[43m,\u001b[49m\u001b[43m \u001b[49m\u001b[43mcriterion\u001b[49m\u001b[43m,\u001b[49m\u001b[43m \u001b[49m\u001b[43moptimizer\u001b[49m\u001b[43m)\u001b[49m\n",
      "Cell \u001b[1;32mIn[59], line 42\u001b[0m, in \u001b[0;36mtrain_model\u001b[1;34m(model, epochs, criterion, optimizer)\u001b[0m\n\u001b[0;32m     40\u001b[0m \u001b[38;5;66;03m# Forward pass\u001b[39;00m\n\u001b[0;32m     41\u001b[0m predictions \u001b[38;5;241m=\u001b[39m model(inputs\u001b[38;5;241m.\u001b[39mto(device))\n\u001b[1;32m---> 42\u001b[0m loss \u001b[38;5;241m=\u001b[39m \u001b[43mcriterion\u001b[49m\u001b[43m(\u001b[49m\u001b[43mpredictions\u001b[49m\u001b[43m,\u001b[49m\u001b[43m \u001b[49m\u001b[43moutputs\u001b[49m\u001b[38;5;241;43m.\u001b[39;49m\u001b[43mto\u001b[49m\u001b[43m(\u001b[49m\u001b[43mdevice\u001b[49m\u001b[43m)\u001b[49m\u001b[43m)\u001b[49m\n\u001b[0;32m     43\u001b[0m train_loss \u001b[38;5;241m+\u001b[39m\u001b[38;5;241m=\u001b[39m loss\u001b[38;5;241m.\u001b[39mitem()\n\u001b[0;32m     45\u001b[0m \u001b[38;5;66;03m# Backward pass\u001b[39;00m\n",
      "File \u001b[1;32m~\\AppData\\Local\\Programs\\Python\\Python311\\Lib\\site-packages\\torch\\nn\\modules\\module.py:1501\u001b[0m, in \u001b[0;36mModule._call_impl\u001b[1;34m(self, *args, **kwargs)\u001b[0m\n\u001b[0;32m   1496\u001b[0m \u001b[38;5;66;03m# If we don't have any hooks, we want to skip the rest of the logic in\u001b[39;00m\n\u001b[0;32m   1497\u001b[0m \u001b[38;5;66;03m# this function, and just call forward.\u001b[39;00m\n\u001b[0;32m   1498\u001b[0m \u001b[38;5;28;01mif\u001b[39;00m \u001b[38;5;129;01mnot\u001b[39;00m (\u001b[38;5;28mself\u001b[39m\u001b[38;5;241m.\u001b[39m_backward_hooks \u001b[38;5;129;01mor\u001b[39;00m \u001b[38;5;28mself\u001b[39m\u001b[38;5;241m.\u001b[39m_backward_pre_hooks \u001b[38;5;129;01mor\u001b[39;00m \u001b[38;5;28mself\u001b[39m\u001b[38;5;241m.\u001b[39m_forward_hooks \u001b[38;5;129;01mor\u001b[39;00m \u001b[38;5;28mself\u001b[39m\u001b[38;5;241m.\u001b[39m_forward_pre_hooks\n\u001b[0;32m   1499\u001b[0m         \u001b[38;5;129;01mor\u001b[39;00m _global_backward_pre_hooks \u001b[38;5;129;01mor\u001b[39;00m _global_backward_hooks\n\u001b[0;32m   1500\u001b[0m         \u001b[38;5;129;01mor\u001b[39;00m _global_forward_hooks \u001b[38;5;129;01mor\u001b[39;00m _global_forward_pre_hooks):\n\u001b[1;32m-> 1501\u001b[0m     \u001b[38;5;28;01mreturn\u001b[39;00m \u001b[43mforward_call\u001b[49m\u001b[43m(\u001b[49m\u001b[38;5;241;43m*\u001b[39;49m\u001b[43margs\u001b[49m\u001b[43m,\u001b[49m\u001b[43m \u001b[49m\u001b[38;5;241;43m*\u001b[39;49m\u001b[38;5;241;43m*\u001b[39;49m\u001b[43mkwargs\u001b[49m\u001b[43m)\u001b[49m\n\u001b[0;32m   1502\u001b[0m \u001b[38;5;66;03m# Do not call functions when jit is used\u001b[39;00m\n\u001b[0;32m   1503\u001b[0m full_backward_hooks, non_full_backward_hooks \u001b[38;5;241m=\u001b[39m [], []\n",
      "File \u001b[1;32m~\\AppData\\Local\\Programs\\Python\\Python311\\Lib\\site-packages\\torch\\nn\\modules\\loss.py:1174\u001b[0m, in \u001b[0;36mCrossEntropyLoss.forward\u001b[1;34m(self, input, target)\u001b[0m\n\u001b[0;32m   1173\u001b[0m \u001b[38;5;28;01mdef\u001b[39;00m \u001b[38;5;21mforward\u001b[39m(\u001b[38;5;28mself\u001b[39m, \u001b[38;5;28minput\u001b[39m: Tensor, target: Tensor) \u001b[38;5;241m-\u001b[39m\u001b[38;5;241m>\u001b[39m Tensor:\n\u001b[1;32m-> 1174\u001b[0m     \u001b[38;5;28;01mreturn\u001b[39;00m \u001b[43mF\u001b[49m\u001b[38;5;241;43m.\u001b[39;49m\u001b[43mcross_entropy\u001b[49m\u001b[43m(\u001b[49m\u001b[38;5;28;43minput\u001b[39;49m\u001b[43m,\u001b[49m\u001b[43m \u001b[49m\u001b[43mtarget\u001b[49m\u001b[43m,\u001b[49m\u001b[43m \u001b[49m\u001b[43mweight\u001b[49m\u001b[38;5;241;43m=\u001b[39;49m\u001b[38;5;28;43mself\u001b[39;49m\u001b[38;5;241;43m.\u001b[39;49m\u001b[43mweight\u001b[49m\u001b[43m,\u001b[49m\n\u001b[0;32m   1175\u001b[0m \u001b[43m                           \u001b[49m\u001b[43mignore_index\u001b[49m\u001b[38;5;241;43m=\u001b[39;49m\u001b[38;5;28;43mself\u001b[39;49m\u001b[38;5;241;43m.\u001b[39;49m\u001b[43mignore_index\u001b[49m\u001b[43m,\u001b[49m\u001b[43m \u001b[49m\u001b[43mreduction\u001b[49m\u001b[38;5;241;43m=\u001b[39;49m\u001b[38;5;28;43mself\u001b[39;49m\u001b[38;5;241;43m.\u001b[39;49m\u001b[43mreduction\u001b[49m\u001b[43m,\u001b[49m\n\u001b[0;32m   1176\u001b[0m \u001b[43m                           \u001b[49m\u001b[43mlabel_smoothing\u001b[49m\u001b[38;5;241;43m=\u001b[39;49m\u001b[38;5;28;43mself\u001b[39;49m\u001b[38;5;241;43m.\u001b[39;49m\u001b[43mlabel_smoothing\u001b[49m\u001b[43m)\u001b[49m\n",
      "File \u001b[1;32m~\\AppData\\Local\\Programs\\Python\\Python311\\Lib\\site-packages\\torch\\nn\\functional.py:3029\u001b[0m, in \u001b[0;36mcross_entropy\u001b[1;34m(input, target, weight, size_average, ignore_index, reduce, reduction, label_smoothing)\u001b[0m\n\u001b[0;32m   3027\u001b[0m \u001b[38;5;28;01mif\u001b[39;00m size_average \u001b[38;5;129;01mis\u001b[39;00m \u001b[38;5;129;01mnot\u001b[39;00m \u001b[38;5;28;01mNone\u001b[39;00m \u001b[38;5;129;01mor\u001b[39;00m reduce \u001b[38;5;129;01mis\u001b[39;00m \u001b[38;5;129;01mnot\u001b[39;00m \u001b[38;5;28;01mNone\u001b[39;00m:\n\u001b[0;32m   3028\u001b[0m     reduction \u001b[38;5;241m=\u001b[39m _Reduction\u001b[38;5;241m.\u001b[39mlegacy_get_string(size_average, reduce)\n\u001b[1;32m-> 3029\u001b[0m \u001b[38;5;28;01mreturn\u001b[39;00m \u001b[43mtorch\u001b[49m\u001b[38;5;241;43m.\u001b[39;49m\u001b[43m_C\u001b[49m\u001b[38;5;241;43m.\u001b[39;49m\u001b[43m_nn\u001b[49m\u001b[38;5;241;43m.\u001b[39;49m\u001b[43mcross_entropy_loss\u001b[49m\u001b[43m(\u001b[49m\u001b[38;5;28;43minput\u001b[39;49m\u001b[43m,\u001b[49m\u001b[43m \u001b[49m\u001b[43mtarget\u001b[49m\u001b[43m,\u001b[49m\u001b[43m \u001b[49m\u001b[43mweight\u001b[49m\u001b[43m,\u001b[49m\u001b[43m \u001b[49m\u001b[43m_Reduction\u001b[49m\u001b[38;5;241;43m.\u001b[39;49m\u001b[43mget_enum\u001b[49m\u001b[43m(\u001b[49m\u001b[43mreduction\u001b[49m\u001b[43m)\u001b[49m\u001b[43m,\u001b[49m\u001b[43m \u001b[49m\u001b[43mignore_index\u001b[49m\u001b[43m,\u001b[49m\u001b[43m \u001b[49m\u001b[43mlabel_smoothing\u001b[49m\u001b[43m)\u001b[49m\n",
      "\u001b[1;31mRuntimeError\u001b[0m: Expected target size [4, 32], got [4]"
     ]
    }
   ],
   "source": [
    "criterion = nn.CrossEntropyLoss()\n",
    "optimizer = torch.optim.Adam(model.parameters(), lr=0.01)\n",
    "train_model(model, 10, criterion, optimizer)"
   ]
  },
  {
   "cell_type": "code",
   "execution_count": null,
   "metadata": {},
   "outputs": [],
   "source": []
  }
 ],
 "metadata": {
  "colab": {
   "provenance": []
  },
  "kernelspec": {
   "display_name": "Python 3 (ipykernel)",
   "language": "python",
   "name": "python3"
  },
  "language_info": {
   "codemirror_mode": {
    "name": "ipython",
    "version": 3
   },
   "file_extension": ".py",
   "mimetype": "text/x-python",
   "name": "python",
   "nbconvert_exporter": "python",
   "pygments_lexer": "ipython3",
   "version": "3.11.3"
  }
 },
 "nbformat": 4,
 "nbformat_minor": 4
}
