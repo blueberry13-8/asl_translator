{
 "cells": [
  {
   "cell_type": "markdown",
   "metadata": {},
   "source": [
    "# TODO\n",
    "\n",
    "- ~~Convert classes from text to tensor array with size 100~~\n",
    "- ~~Complete train loop (it is not working now) due to problem above~~\n",
    "- Find good LSTM architecture\n",
    "- Check how fast is our approach with per frame check\n",
    "- ~~Check if we can put videos with different frame number~~"
   ]
  },
  {
   "cell_type": "markdown",
   "metadata": {},
   "source": [
    "## Device Allocation"
   ]
  },
  {
   "cell_type": "code",
   "execution_count": 1,
   "metadata": {},
   "outputs": [
    {
     "name": "stdout",
     "output_type": "stream",
     "text": [
      "cuda\n"
     ]
    },
    {
     "data": {
      "text/plain": "True"
     },
     "execution_count": 1,
     "metadata": {},
     "output_type": "execute_result"
    }
   ],
   "source": [
    "import torch\n",
    "\n",
    "#Set up device\n",
    "use_cuda = torch.cuda.is_available()\n",
    "device = torch.device(\"cuda\" if use_cuda else \"cpu\")\n",
    "print(device)\n",
    "use_cuda"
   ]
  },
  {
   "cell_type": "markdown",
   "metadata": {},
   "source": [
    "## Dataset"
   ]
  },
  {
   "cell_type": "code",
   "execution_count": 2,
   "metadata": {},
   "outputs": [],
   "source": [
    "import json\n",
    "import os\n",
    "import torch\n",
    "import numpy as np\n",
    "import pandas as pd\n",
    "from torch.utils.data import Dataset, DataLoader"
   ]
  },
  {
   "cell_type": "code",
   "execution_count": 3,
   "metadata": {},
   "outputs": [
    {
     "data": {
      "text/plain": "     video_name subset  start_frame  end_frame  class_id\n0         00623  train            1        104        51\n1         00624  train            1         93        51\n2         00625   test            1         35        51\n3         00626    val            1         46        51\n4         00627    val            1         28        51\n...         ...    ...          ...        ...       ...\n1008      69524    val            1         59        74\n1009      69531    val            1         54        30\n1010      69533    val            1         64        49\n1011      69534  train            1         54         7\n1012      69546    val            1         62        17\n\n[1013 rows x 5 columns]",
      "text/html": "<div>\n<style scoped>\n    .dataframe tbody tr th:only-of-type {\n        vertical-align: middle;\n    }\n\n    .dataframe tbody tr th {\n        vertical-align: top;\n    }\n\n    .dataframe thead th {\n        text-align: right;\n    }\n</style>\n<table border=\"1\" class=\"dataframe\">\n  <thead>\n    <tr style=\"text-align: right;\">\n      <th></th>\n      <th>video_name</th>\n      <th>subset</th>\n      <th>start_frame</th>\n      <th>end_frame</th>\n      <th>class_id</th>\n    </tr>\n  </thead>\n  <tbody>\n    <tr>\n      <th>0</th>\n      <td>00623</td>\n      <td>train</td>\n      <td>1</td>\n      <td>104</td>\n      <td>51</td>\n    </tr>\n    <tr>\n      <th>1</th>\n      <td>00624</td>\n      <td>train</td>\n      <td>1</td>\n      <td>93</td>\n      <td>51</td>\n    </tr>\n    <tr>\n      <th>2</th>\n      <td>00625</td>\n      <td>test</td>\n      <td>1</td>\n      <td>35</td>\n      <td>51</td>\n    </tr>\n    <tr>\n      <th>3</th>\n      <td>00626</td>\n      <td>val</td>\n      <td>1</td>\n      <td>46</td>\n      <td>51</td>\n    </tr>\n    <tr>\n      <th>4</th>\n      <td>00627</td>\n      <td>val</td>\n      <td>1</td>\n      <td>28</td>\n      <td>51</td>\n    </tr>\n    <tr>\n      <th>...</th>\n      <td>...</td>\n      <td>...</td>\n      <td>...</td>\n      <td>...</td>\n      <td>...</td>\n    </tr>\n    <tr>\n      <th>1008</th>\n      <td>69524</td>\n      <td>val</td>\n      <td>1</td>\n      <td>59</td>\n      <td>74</td>\n    </tr>\n    <tr>\n      <th>1009</th>\n      <td>69531</td>\n      <td>val</td>\n      <td>1</td>\n      <td>54</td>\n      <td>30</td>\n    </tr>\n    <tr>\n      <th>1010</th>\n      <td>69533</td>\n      <td>val</td>\n      <td>1</td>\n      <td>64</td>\n      <td>49</td>\n    </tr>\n    <tr>\n      <th>1011</th>\n      <td>69534</td>\n      <td>train</td>\n      <td>1</td>\n      <td>54</td>\n      <td>7</td>\n    </tr>\n    <tr>\n      <th>1012</th>\n      <td>69546</td>\n      <td>val</td>\n      <td>1</td>\n      <td>62</td>\n      <td>17</td>\n    </tr>\n  </tbody>\n</table>\n<p>1013 rows × 5 columns</p>\n</div>"
     },
     "execution_count": 3,
     "metadata": {},
     "output_type": "execute_result"
    }
   ],
   "source": [
    "# Create a dataframe dataset object with all videos from .json config\n",
    "\n",
    "def create_dataframe(json_config, videos_root):\n",
    "    data = []\n",
    "    videos = json.load(open(json_config))\n",
    "    # train, val, test = dict(), dict(), dict()\n",
    "    for name in os.listdir(videos_root):\n",
    "        name = name[:-4]\n",
    "        if videos.get(name) is None:\n",
    "            continue\n",
    "        video = videos[name]\n",
    "        data.append([name, video['subset'], video['action'][1], video['action'][2], video['action'][0]])\n",
    "    return pd.DataFrame(data, columns=['video_name', 'subset', 'start_frame', 'end_frame', 'class_id'])\n",
    "\n",
    "\n",
    "# dataset = create_dataframe('output3.json', 'wlasl_dataset/videos')\n",
    "dataset = create_dataframe('wlasl_dataset/nslt_100.json', 'wlasl_dataset/videos')\n",
    "dataset"
   ]
  },
  {
   "cell_type": "code",
   "execution_count": 4,
   "metadata": {},
   "outputs": [
    {
     "data": {
      "text/plain": "OneHotEncoder()",
      "text/html": "<style>#sk-container-id-1 {color: black;background-color: white;}#sk-container-id-1 pre{padding: 0;}#sk-container-id-1 div.sk-toggleable {background-color: white;}#sk-container-id-1 label.sk-toggleable__label {cursor: pointer;display: block;width: 100%;margin-bottom: 0;padding: 0.3em;box-sizing: border-box;text-align: center;}#sk-container-id-1 label.sk-toggleable__label-arrow:before {content: \"▸\";float: left;margin-right: 0.25em;color: #696969;}#sk-container-id-1 label.sk-toggleable__label-arrow:hover:before {color: black;}#sk-container-id-1 div.sk-estimator:hover label.sk-toggleable__label-arrow:before {color: black;}#sk-container-id-1 div.sk-toggleable__content {max-height: 0;max-width: 0;overflow: hidden;text-align: left;background-color: #f0f8ff;}#sk-container-id-1 div.sk-toggleable__content pre {margin: 0.2em;color: black;border-radius: 0.25em;background-color: #f0f8ff;}#sk-container-id-1 input.sk-toggleable__control:checked~div.sk-toggleable__content {max-height: 200px;max-width: 100%;overflow: auto;}#sk-container-id-1 input.sk-toggleable__control:checked~label.sk-toggleable__label-arrow:before {content: \"▾\";}#sk-container-id-1 div.sk-estimator input.sk-toggleable__control:checked~label.sk-toggleable__label {background-color: #d4ebff;}#sk-container-id-1 div.sk-label input.sk-toggleable__control:checked~label.sk-toggleable__label {background-color: #d4ebff;}#sk-container-id-1 input.sk-hidden--visually {border: 0;clip: rect(1px 1px 1px 1px);clip: rect(1px, 1px, 1px, 1px);height: 1px;margin: -1px;overflow: hidden;padding: 0;position: absolute;width: 1px;}#sk-container-id-1 div.sk-estimator {font-family: monospace;background-color: #f0f8ff;border: 1px dotted black;border-radius: 0.25em;box-sizing: border-box;margin-bottom: 0.5em;}#sk-container-id-1 div.sk-estimator:hover {background-color: #d4ebff;}#sk-container-id-1 div.sk-parallel-item::after {content: \"\";width: 100%;border-bottom: 1px solid gray;flex-grow: 1;}#sk-container-id-1 div.sk-label:hover label.sk-toggleable__label {background-color: #d4ebff;}#sk-container-id-1 div.sk-serial::before {content: \"\";position: absolute;border-left: 1px solid gray;box-sizing: border-box;top: 0;bottom: 0;left: 50%;z-index: 0;}#sk-container-id-1 div.sk-serial {display: flex;flex-direction: column;align-items: center;background-color: white;padding-right: 0.2em;padding-left: 0.2em;position: relative;}#sk-container-id-1 div.sk-item {position: relative;z-index: 1;}#sk-container-id-1 div.sk-parallel {display: flex;align-items: stretch;justify-content: center;background-color: white;position: relative;}#sk-container-id-1 div.sk-item::before, #sk-container-id-1 div.sk-parallel-item::before {content: \"\";position: absolute;border-left: 1px solid gray;box-sizing: border-box;top: 0;bottom: 0;left: 50%;z-index: -1;}#sk-container-id-1 div.sk-parallel-item {display: flex;flex-direction: column;z-index: 1;position: relative;background-color: white;}#sk-container-id-1 div.sk-parallel-item:first-child::after {align-self: flex-end;width: 50%;}#sk-container-id-1 div.sk-parallel-item:last-child::after {align-self: flex-start;width: 50%;}#sk-container-id-1 div.sk-parallel-item:only-child::after {width: 0;}#sk-container-id-1 div.sk-dashed-wrapped {border: 1px dashed gray;margin: 0 0.4em 0.5em 0.4em;box-sizing: border-box;padding-bottom: 0.4em;background-color: white;}#sk-container-id-1 div.sk-label label {font-family: monospace;font-weight: bold;display: inline-block;line-height: 1.2em;}#sk-container-id-1 div.sk-label-container {text-align: center;}#sk-container-id-1 div.sk-container {/* jupyter's `normalize.less` sets `[hidden] { display: none; }` but bootstrap.min.css set `[hidden] { display: none !important; }` so we also need the `!important` here to be able to override the default hidden behavior on the sphinx rendered scikit-learn.org. See: https://github.com/scikit-learn/scikit-learn/issues/21755 */display: inline-block !important;position: relative;}#sk-container-id-1 div.sk-text-repr-fallback {display: none;}</style><div id=\"sk-container-id-1\" class=\"sk-top-container\"><div class=\"sk-text-repr-fallback\"><pre>OneHotEncoder()</pre><b>In a Jupyter environment, please rerun this cell to show the HTML representation or trust the notebook. <br />On GitHub, the HTML representation is unable to render, please try loading this page with nbviewer.org.</b></div><div class=\"sk-container\" hidden><div class=\"sk-item\"><div class=\"sk-estimator sk-toggleable\"><input class=\"sk-toggleable__control sk-hidden--visually\" id=\"sk-estimator-id-1\" type=\"checkbox\" checked><label for=\"sk-estimator-id-1\" class=\"sk-toggleable__label sk-toggleable__label-arrow\">OneHotEncoder</label><div class=\"sk-toggleable__content\"><pre>OneHotEncoder()</pre></div></div></div></div></div>"
     },
     "execution_count": 4,
     "metadata": {},
     "output_type": "execute_result"
    }
   ],
   "source": [
    "from sklearn.preprocessing import OneHotEncoder\n",
    "\n",
    "# Train one hot encoder to encoded classes from our dataset\n",
    "all_classes = dataset[\"class_id\"].to_list()\n",
    "ohe = OneHotEncoder()\n",
    "ohe.fit(np.array(all_classes).reshape(-1, 1))\n",
    "\n",
    "# Test\n",
    "# ohe.transform([[402]]).toarray()"
   ]
  },
  {
   "cell_type": "code",
   "execution_count": 5,
   "metadata": {
    "id": "mo19lj56lIbi"
   },
   "outputs": [],
   "source": [
    "from os.path import exists\n",
    "import torch.nn.functional as F\n",
    "\n",
    "\n",
    "class ASLDataset(Dataset):\n",
    "    \"\"\"\n",
    "    A custom dataset class for loading American Sign Language (ASL) videos and their corresponding labels.\n",
    "\n",
    "    Args:\n",
    "        tensors_folder (str): Path to the folder containing the .pt arrays (converted videos).\n",
    "        dataset_df (DataFrame): Pandas dataframe with information about videos\n",
    "        max_frame_count (int): Maximum length of video in frames.\n",
    "        ohe (OneHotEncoder): Required to encode class id to one hot numeric array.\n",
    "    \"\"\"\n",
    "\n",
    "    def __init__(self, tensors_folder: str, dataset_df: pd.DataFrame, max_frame_count: int, ohe: OneHotEncoder) -> None:\n",
    "        # Default frame (set of points) to insert in short videos to make all videos equal in length\n",
    "        default_frame = [0] * (21 * 3 * 2 + 33 * 3)\n",
    "\n",
    "        self.tensor_sequences = []\n",
    "        self.targets = []\n",
    "        indexes_to_drop = []\n",
    "        for index, row in dataset_df.iterrows():\n",
    "            path_to_tensor = tensors_folder + '/' + row[\"video_name\"] + '.pt'\n",
    "\n",
    "            if not exists(path_to_tensor):\n",
    "                indexes_to_drop.append(index)\n",
    "                continue\n",
    "\n",
    "            # Open the video file using OpenCV\n",
    "            tensor = torch.load(path_to_tensor).to(device)\n",
    "\n",
    "            # Enhance frames(tensor) to the default length. [old version]: Change length of video (not a video but sequence of frames with points coordinates in each frame)\n",
    "            pad_right = [default_frame for _ in range(0, max_frame_count - tensor.shape[0])]\n",
    "            pad_right = torch.tensor(pad_right).to(device)\n",
    "            self.tensor_sequences.append(torch.cat((F.normalize(tensor.float(), dim=1), pad_right)).to(device))\n",
    "            # self.tensor_sequences.append(F.normalize(tensor.float(), dim=1))\n",
    "        dataset_df.drop(index=indexes_to_drop, inplace=True)\n",
    "        self.targets = torch.tensor(ohe.transform(np.array(dataset_df[\"class_id\"]).reshape(-1, 1)).toarray()).to(device)\n",
    "\n",
    "    def __len__(self):\n",
    "        \"\"\"\n",
    "        Returns the number of videos in the dataset.\n",
    "\n",
    "        Returns:\n",
    "            int: The number of videos in the dataset.\n",
    "        \"\"\"\n",
    "        return len(self.targets)\n",
    "\n",
    "    def __getitem__(self, index):\n",
    "        \"\"\"\n",
    "        Retrieves a video and its corresponding label from the dataset.\n",
    "\n",
    "        Args:\n",
    "            index (int): The index of the video to retrieve.\n",
    "\n",
    "        Returns:\n",
    "            tuple: A tuple containing the video frames as a PyTorch tensor and the label.\n",
    "        \"\"\"\n",
    "\n",
    "        return self.tensor_sequences[index].float().to(device), self.targets[index].float().to(device)\n"
   ]
  },
  {
   "cell_type": "code",
   "execution_count": 6,
   "metadata": {},
   "outputs": [],
   "source": [
    "def read_classes(path):\n",
    "    classes = dict()\n",
    "    with open(path, 'r') as file:\n",
    "        for line in file:\n",
    "            line = line.strip().split('\\t')\n",
    "            key = int(line[0])\n",
    "            value = line[1]\n",
    "            classes[key] = value\n",
    "    return classes"
   ]
  },
  {
   "cell_type": "code",
   "execution_count": 7,
   "metadata": {},
   "outputs": [
    {
     "name": "stdout",
     "output_type": "stream",
     "text": [
      "Maximum length of video in frames in current dataset is 203\n"
     ]
    }
   ],
   "source": [
    "max_frame_count = max(dataset[\"end_frame\"] - dataset[\"start_frame\"] + 1)\n",
    "print(f\"Maximum length of video in frames in current dataset is {max_frame_count}\")"
   ]
  },
  {
   "cell_type": "code",
   "execution_count": 8,
   "metadata": {
    "pycharm": {
     "name": "#%%\n"
    }
   },
   "outputs": [],
   "source": [
    "train = dataset[dataset[\"subset\"].isin([\"train\", 'val'])]\n",
    "#val = dataset[dataset[\"subset\"] == \"val\"]\n",
    "test = dataset[dataset[\"subset\"] == \"test\"]\n",
    "classes = read_classes('wlasl_dataset/wlasl_class_list.txt')\n",
    "\n",
    "train_dataset = ASLDataset('point_arrays', train.copy(), max_frame_count, ohe)\n",
    "#val_dataset = ASLDataset('custom_dataset/point_arrays', val, max_frame_count, ohe)\n",
    "test_dataset = ASLDataset('point_arrays', test.copy(), max_frame_count, ohe)"
   ]
  },
  {
   "cell_type": "code",
   "execution_count": 9,
   "metadata": {},
   "outputs": [
    {
     "name": "stdout",
     "output_type": "stream",
     "text": [
      "Train size: 913\n",
      "Test size: 100\n"
     ]
    }
   ],
   "source": [
    "# Create dataloaders\n",
    "\n",
    "batch_size = 16\n",
    "\n",
    "train_dataloader = DataLoader(train_dataset, batch_size=batch_size, shuffle=True)\n",
    "#val_dataloader = DataLoader(val_dataset, batch_size=batch_size, shuffle=True)\n",
    "test_dataloader = DataLoader(test_dataset, batch_size=batch_size, shuffle=False)\n",
    "\n",
    "print(f\"Train size: {len(train_dataset)}\")\n",
    "#print(f\"Validation size: {len(val_dataset)}\")\n",
    "print(f\"Test size: {len(test_dataset)}\")"
   ]
  },
  {
   "cell_type": "markdown",
   "metadata": {
    "pycharm": {
     "name": "#%% md\n"
    }
   },
   "source": [
    "## Model"
   ]
  },
  {
   "cell_type": "code",
   "execution_count": 10,
   "metadata": {
    "pycharm": {
     "name": "#%%\n"
    }
   },
   "outputs": [],
   "source": [
    "import torch.nn as nn\n",
    "\n",
    "\n",
    "class SequenceModel(nn.Module):\n",
    "    def __init__(self, input_size=1662, output_size=100) -> None:\n",
    "        super().__init__()\n",
    "        self.lstm = nn.Sequential(\n",
    "            nn.LSTM(input_size, 64, 1, batch_first=True),\n",
    "        )\n",
    "        self.linear = nn.Sequential(\n",
    "            nn.Linear(64, 16),\n",
    "            nn.ReLU(),\n",
    "            nn.Linear(16, output_size),\n",
    "            nn.Softmax(dim=1),\n",
    "        )\n",
    "\n",
    "    def forward(self, x):\n",
    "        x, _ = self.lstm(x)\n",
    "        x = self.linear(x[:, -1, :])\n",
    "\n",
    "        return x\n",
    "\n",
    "\n",
    "class LstmModel(nn.Module):\n",
    "    def __init__(self, input_size, hidden_size, num_layers, num_classes) -> None:\n",
    "        super(LstmModel, self).__init__()\n",
    "        self.hidden_size = hidden_size\n",
    "        self.num_layers = num_layers\n",
    "        self.lstm = nn.LSTM(input_size, hidden_size, num_layers, batch_first=True)\n",
    "        self.fc = nn.Sequential(\n",
    "            nn.Linear(hidden_size, hidden_size // 2),\n",
    "            nn.ReLU(),\n",
    "            nn.Linear(hidden_size // 2, num_classes),\n",
    "            # nn.Softmax(dim=1)\n",
    "        )\n",
    "\n",
    "    def forward(self, x):\n",
    "        out, _ = self.lstm(x)\n",
    "        out = self.fc(out[:, 0, :])\n",
    "        # out = self.fc(torch.mean(out, 1))\n",
    "        return out\n",
    "\n",
    "\n",
    "class GruModel(nn.Module):\n",
    "    def __init__(self, input_size, hidden_size, num_layers, num_classes) -> None:\n",
    "        super(GruModel, self).__init__()\n",
    "        self.hidden_size = hidden_size\n",
    "        self.num_layers = num_layers\n",
    "        self.gru = nn.GRU(input_size, hidden_size, num_layers, batch_first=True)\n",
    "        self.fc = nn.Sequential(\n",
    "            nn.Linear(hidden_size, hidden_size // 2),\n",
    "            nn.ReLU(),\n",
    "            nn.Linear(hidden_size // 2, num_classes),\n",
    "        )\n",
    "\n",
    "    def forward(self, x):\n",
    "        out, _ = self.gru(x)\n",
    "        out = self.fc(out[:, 0, :])\n",
    "        return out"
   ]
  },
  {
   "cell_type": "code",
   "execution_count": 11,
   "metadata": {
    "pycharm": {
     "name": "#%%\n"
    }
   },
   "outputs": [],
   "source": [
    "# model = SequenceModel(input_size=225, output_size=2)\n",
    "# model"
   ]
  },
  {
   "cell_type": "markdown",
   "metadata": {
    "pycharm": {
     "name": "#%% md\n"
    }
   },
   "source": [
    "## Training"
   ]
  },
  {
   "cell_type": "code",
   "execution_count": 12,
   "metadata": {
    "pycharm": {
     "name": "#%%\n"
    }
   },
   "outputs": [],
   "source": [
    "from sklearn.metrics import f1_score\n",
    "from tqdm import tqdm\n",
    "\n",
    "\n",
    "def train_model(model: nn.Module, epochs: int, criterion, optimizer):\n",
    "    \"\"\"\n",
    "    Function that trains model using number of epochs, loss function, optimizer.\n",
    "    Can use validation or test data set for evaluation.\n",
    "    Calculates f1 score.\n",
    "\n",
    "    Parameter\n",
    "    ---------\n",
    "    model : nn.Module\n",
    "      Model to train.\n",
    "    epochs: int\n",
    "      Number of train epochs\n",
    "    criterion\n",
    "      The loss function from pytorch\n",
    "    optimizer\n",
    "      The optimizer from pytorch\n",
    "    \"\"\"\n",
    "\n",
    "    # Train the model\n",
    "    for epoch in range(epochs):\n",
    "        model.train()\n",
    "\n",
    "        predicted_train = []\n",
    "        true_train = []\n",
    "\n",
    "        train_loss = 0.0\n",
    "\n",
    "        bar = tqdm(train_dataloader)\n",
    "        iterations = 0\n",
    "\n",
    "        for inputs, outputs in bar:\n",
    "            # Zero the gradients\n",
    "            optimizer.zero_grad()\n",
    "            inputs, outputs = inputs.to(device), outputs.to(device)\n",
    "\n",
    "            # Forward pass\n",
    "            predictions = model(inputs).to(device)\n",
    "            loss = criterion(predictions, outputs)\n",
    "            train_loss += loss.item()\n",
    "\n",
    "            # Backward pass\n",
    "            loss.backward()\n",
    "            optimizer.step()\n",
    "\n",
    "            # Get predicted classes and true classes from data\n",
    "            for item in predictions:\n",
    "                predicted_train.append(int(torch.argmax(item).cpu().numpy()))\n",
    "            for item in outputs:\n",
    "                true_train.append(int(torch.argmax(item).cpu().numpy()))\n",
    "            iterations += 1\n",
    "            bar.set_postfix(({\"loss\": f\"{train_loss / (iterations * train_dataloader.batch_size)}\"}))\n",
    "\n",
    "        # Computing loss\n",
    "        train_loss /= len(train_dataset)\n",
    "        # Computing f1 score\n",
    "        train_f1 = f1_score(true_train, predicted_train, average=\"macro\")\n",
    "\n",
    "        # Printing information in the end of train loop\n",
    "        test_loss, test_f1 = test_model(model, criterion, test_dataloader)\n",
    "        print(f\"Epoch {epoch + 1} train (loss: {train_loss:.4f}, f1 score: {train_f1:.4f}) test (loss: {test_loss:.4f}, f1 score: {test_f1:.4f})\")\n",
    "\n",
    "\n",
    "def test_model(model: nn.Module, criterion, test_dataloader: DataLoader):\n",
    "    \"\"\"\n",
    "    Function that evaluates model on specified dataloader\n",
    "    by specified loss function.\n",
    "\n",
    "    Parameter\n",
    "    ---------\n",
    "    model : nn.Module\n",
    "      Model to train.\n",
    "    criterion\n",
    "      The loss function from pytorch\n",
    "    test_dataloader: DataLoader\n",
    "      The dataset for testing model\n",
    "\n",
    "    Returns\n",
    "    -------\n",
    "    float: loss of model on given dataset\n",
    "    float: f1 score of model on given dataset\n",
    "    \"\"\"\n",
    "\n",
    "    model.eval()\n",
    "\n",
    "    # Test loss value\n",
    "    test_loss = 0.0\n",
    "\n",
    "    # Lists for calculation f1 score\n",
    "    predicted_test = []\n",
    "    true_test = []\n",
    "\n",
    "    with torch.no_grad():\n",
    "        for inputs, outputs in test_dataloader:\n",
    "\n",
    "            # Forward pass\n",
    "            predictions = model(inputs.to(device))\n",
    "            test_loss += criterion(predictions, outputs.to(device))\n",
    "\n",
    "            # Get predicted classes and true classes from data\n",
    "            for item in predictions:\n",
    "                predicted_test.append(int(torch.argmax(item).cpu().numpy()))\n",
    "            for item in outputs:\n",
    "                true_test.append(int(torch.argmax(item).cpu().numpy()))\n",
    "\n",
    "    # Computation of test loss\n",
    "    test_loss /= len(test_dataloader)\n",
    "\n",
    "    # Computation of f1 score\n",
    "    test_f1 = f1_score(true_test, predicted_test, average=\"macro\")\n",
    "    return test_loss.item(), test_f1\n"
   ]
  },
  {
   "cell_type": "code",
   "execution_count": 13,
   "metadata": {
    "pycharm": {
     "name": "#%%\n"
    }
   },
   "outputs": [
    {
     "name": "stderr",
     "output_type": "stream",
     "text": [
      "100%|██████████| 58/58 [00:19<00:00,  3.01it/s, loss=0.28800940462227526]\n"
     ]
    },
    {
     "name": "stdout",
     "output_type": "stream",
     "text": [
      "Epoch 1 train (loss: 0.2927, f1 score: 0.0007) test (loss: 4.6027, f1 score: 0.0003)\n"
     ]
    },
    {
     "name": "stderr",
     "output_type": "stream",
     "text": [
      "100%|██████████| 58/58 [00:18<00:00,  3.19it/s, loss=0.2878838279123964] \n"
     ]
    },
    {
     "name": "stdout",
     "output_type": "stream",
     "text": [
      "Epoch 2 train (loss: 0.2926, f1 score: 0.0013) test (loss: 4.6039, f1 score: 0.0000)\n"
     ]
    },
    {
     "name": "stderr",
     "output_type": "stream",
     "text": [
      "100%|██████████| 58/58 [00:18<00:00,  3.20it/s, loss=0.2875241205610078] \n"
     ]
    },
    {
     "name": "stdout",
     "output_type": "stream",
     "text": [
      "Epoch 3 train (loss: 0.2922, f1 score: 0.0004) test (loss: 4.5996, f1 score: 0.0003)\n"
     ]
    },
    {
     "name": "stderr",
     "output_type": "stream",
     "text": [
      "100%|██████████| 58/58 [00:18<00:00,  3.13it/s, loss=0.28751478626810273]\n"
     ]
    },
    {
     "name": "stdout",
     "output_type": "stream",
     "text": [
      "Epoch 4 train (loss: 0.2922, f1 score: 0.0009) test (loss: 4.6028, f1 score: 0.0005)\n"
     ]
    },
    {
     "name": "stderr",
     "output_type": "stream",
     "text": [
      "100%|██████████| 58/58 [00:18<00:00,  3.17it/s, loss=0.287001918615966]  \n"
     ]
    },
    {
     "name": "stdout",
     "output_type": "stream",
     "text": [
      "Epoch 5 train (loss: 0.2917, f1 score: 0.0006) test (loss: 4.6172, f1 score: 0.0005)\n"
     ]
    },
    {
     "name": "stderr",
     "output_type": "stream",
     "text": [
      "100%|██████████| 58/58 [00:18<00:00,  3.22it/s, loss=0.28707647426375027]\n"
     ]
    },
    {
     "name": "stdout",
     "output_type": "stream",
     "text": [
      "Epoch 6 train (loss: 0.2918, f1 score: 0.0003) test (loss: 4.6079, f1 score: 0.0005)\n"
     ]
    },
    {
     "name": "stderr",
     "output_type": "stream",
     "text": [
      " 28%|██▊       | 16/58 [00:05<00:14,  2.91it/s, loss=0.2864913996309042] \n"
     ]
    },
    {
     "ename": "KeyboardInterrupt",
     "evalue": "",
     "output_type": "error",
     "traceback": [
      "\u001B[1;31m---------------------------------------------------------------------------\u001B[0m",
      "\u001B[1;31mKeyboardInterrupt\u001B[0m                         Traceback (most recent call last)",
      "Cell \u001B[1;32mIn[13], line 15\u001B[0m\n\u001B[0;32m     12\u001B[0m criterion \u001B[38;5;241m=\u001B[39m nn\u001B[38;5;241m.\u001B[39mCrossEntropyLoss()\n\u001B[0;32m     13\u001B[0m optimizer \u001B[38;5;241m=\u001B[39m torch\u001B[38;5;241m.\u001B[39moptim\u001B[38;5;241m.\u001B[39mAdam(model\u001B[38;5;241m.\u001B[39mparameters())\n\u001B[1;32m---> 15\u001B[0m \u001B[43mtrain_model\u001B[49m\u001B[43m(\u001B[49m\u001B[43mmodel\u001B[49m\u001B[43m,\u001B[49m\u001B[43m \u001B[49m\u001B[43mepochs\u001B[49m\u001B[43m,\u001B[49m\u001B[43m \u001B[49m\u001B[43mcriterion\u001B[49m\u001B[43m,\u001B[49m\u001B[43m \u001B[49m\u001B[43moptimizer\u001B[49m\u001B[43m)\u001B[49m\n",
      "Cell \u001B[1;32mIn[12], line 41\u001B[0m, in \u001B[0;36mtrain_model\u001B[1;34m(model, epochs, criterion, optimizer)\u001B[0m\n\u001B[0;32m     38\u001B[0m inputs, outputs \u001B[38;5;241m=\u001B[39m inputs\u001B[38;5;241m.\u001B[39mto(device), outputs\u001B[38;5;241m.\u001B[39mto(device)\n\u001B[0;32m     40\u001B[0m \u001B[38;5;66;03m# Forward pass\u001B[39;00m\n\u001B[1;32m---> 41\u001B[0m predictions \u001B[38;5;241m=\u001B[39m \u001B[43mmodel\u001B[49m\u001B[43m(\u001B[49m\u001B[43minputs\u001B[49m\u001B[43m)\u001B[49m\u001B[38;5;241m.\u001B[39mto(device)\n\u001B[0;32m     42\u001B[0m loss \u001B[38;5;241m=\u001B[39m criterion(predictions, outputs)\n\u001B[0;32m     43\u001B[0m train_loss \u001B[38;5;241m+\u001B[39m\u001B[38;5;241m=\u001B[39m loss\u001B[38;5;241m.\u001B[39mitem()\n",
      "File \u001B[1;32m~\\AppData\\Local\\Programs\\Python\\Python310\\lib\\site-packages\\torch\\nn\\modules\\module.py:1130\u001B[0m, in \u001B[0;36mModule._call_impl\u001B[1;34m(self, *input, **kwargs)\u001B[0m\n\u001B[0;32m   1126\u001B[0m \u001B[38;5;66;03m# If we don't have any hooks, we want to skip the rest of the logic in\u001B[39;00m\n\u001B[0;32m   1127\u001B[0m \u001B[38;5;66;03m# this function, and just call forward.\u001B[39;00m\n\u001B[0;32m   1128\u001B[0m \u001B[38;5;28;01mif\u001B[39;00m \u001B[38;5;129;01mnot\u001B[39;00m (\u001B[38;5;28mself\u001B[39m\u001B[38;5;241m.\u001B[39m_backward_hooks \u001B[38;5;129;01mor\u001B[39;00m \u001B[38;5;28mself\u001B[39m\u001B[38;5;241m.\u001B[39m_forward_hooks \u001B[38;5;129;01mor\u001B[39;00m \u001B[38;5;28mself\u001B[39m\u001B[38;5;241m.\u001B[39m_forward_pre_hooks \u001B[38;5;129;01mor\u001B[39;00m _global_backward_hooks\n\u001B[0;32m   1129\u001B[0m         \u001B[38;5;129;01mor\u001B[39;00m _global_forward_hooks \u001B[38;5;129;01mor\u001B[39;00m _global_forward_pre_hooks):\n\u001B[1;32m-> 1130\u001B[0m     \u001B[38;5;28;01mreturn\u001B[39;00m forward_call(\u001B[38;5;241m*\u001B[39m\u001B[38;5;28minput\u001B[39m, \u001B[38;5;241m*\u001B[39m\u001B[38;5;241m*\u001B[39mkwargs)\n\u001B[0;32m   1131\u001B[0m \u001B[38;5;66;03m# Do not call functions when jit is used\u001B[39;00m\n\u001B[0;32m   1132\u001B[0m full_backward_hooks, non_full_backward_hooks \u001B[38;5;241m=\u001B[39m [], []\n",
      "Cell \u001B[1;32mIn[10], line 64\u001B[0m, in \u001B[0;36mGruModel.forward\u001B[1;34m(self, x)\u001B[0m\n\u001B[0;32m     63\u001B[0m \u001B[38;5;28;01mdef\u001B[39;00m \u001B[38;5;21mforward\u001B[39m(\u001B[38;5;28mself\u001B[39m, x):\n\u001B[1;32m---> 64\u001B[0m     out, _ \u001B[38;5;241m=\u001B[39m \u001B[38;5;28;43mself\u001B[39;49m\u001B[38;5;241;43m.\u001B[39;49m\u001B[43mgru\u001B[49m\u001B[43m(\u001B[49m\u001B[43mx\u001B[49m\u001B[43m)\u001B[49m\n\u001B[0;32m     65\u001B[0m     out \u001B[38;5;241m=\u001B[39m \u001B[38;5;28mself\u001B[39m\u001B[38;5;241m.\u001B[39mfc(out[:, \u001B[38;5;241m0\u001B[39m, :])\n\u001B[0;32m     66\u001B[0m     \u001B[38;5;28;01mreturn\u001B[39;00m out\n",
      "File \u001B[1;32m~\\AppData\\Local\\Programs\\Python\\Python310\\lib\\site-packages\\torch\\nn\\modules\\module.py:1130\u001B[0m, in \u001B[0;36mModule._call_impl\u001B[1;34m(self, *input, **kwargs)\u001B[0m\n\u001B[0;32m   1126\u001B[0m \u001B[38;5;66;03m# If we don't have any hooks, we want to skip the rest of the logic in\u001B[39;00m\n\u001B[0;32m   1127\u001B[0m \u001B[38;5;66;03m# this function, and just call forward.\u001B[39;00m\n\u001B[0;32m   1128\u001B[0m \u001B[38;5;28;01mif\u001B[39;00m \u001B[38;5;129;01mnot\u001B[39;00m (\u001B[38;5;28mself\u001B[39m\u001B[38;5;241m.\u001B[39m_backward_hooks \u001B[38;5;129;01mor\u001B[39;00m \u001B[38;5;28mself\u001B[39m\u001B[38;5;241m.\u001B[39m_forward_hooks \u001B[38;5;129;01mor\u001B[39;00m \u001B[38;5;28mself\u001B[39m\u001B[38;5;241m.\u001B[39m_forward_pre_hooks \u001B[38;5;129;01mor\u001B[39;00m _global_backward_hooks\n\u001B[0;32m   1129\u001B[0m         \u001B[38;5;129;01mor\u001B[39;00m _global_forward_hooks \u001B[38;5;129;01mor\u001B[39;00m _global_forward_pre_hooks):\n\u001B[1;32m-> 1130\u001B[0m     \u001B[38;5;28;01mreturn\u001B[39;00m forward_call(\u001B[38;5;241m*\u001B[39m\u001B[38;5;28minput\u001B[39m, \u001B[38;5;241m*\u001B[39m\u001B[38;5;241m*\u001B[39mkwargs)\n\u001B[0;32m   1131\u001B[0m \u001B[38;5;66;03m# Do not call functions when jit is used\u001B[39;00m\n\u001B[0;32m   1132\u001B[0m full_backward_hooks, non_full_backward_hooks \u001B[38;5;241m=\u001B[39m [], []\n",
      "File \u001B[1;32m~\\AppData\\Local\\Programs\\Python\\Python310\\lib\\site-packages\\torch\\nn\\modules\\rnn.py:950\u001B[0m, in \u001B[0;36mGRU.forward\u001B[1;34m(self, input, hx)\u001B[0m\n\u001B[0;32m    948\u001B[0m \u001B[38;5;28mself\u001B[39m\u001B[38;5;241m.\u001B[39mcheck_forward_args(\u001B[38;5;28minput\u001B[39m, hx, batch_sizes)\n\u001B[0;32m    949\u001B[0m \u001B[38;5;28;01mif\u001B[39;00m batch_sizes \u001B[38;5;129;01mis\u001B[39;00m \u001B[38;5;28;01mNone\u001B[39;00m:\n\u001B[1;32m--> 950\u001B[0m     result \u001B[38;5;241m=\u001B[39m \u001B[43m_VF\u001B[49m\u001B[38;5;241;43m.\u001B[39;49m\u001B[43mgru\u001B[49m\u001B[43m(\u001B[49m\u001B[38;5;28;43minput\u001B[39;49m\u001B[43m,\u001B[49m\u001B[43m \u001B[49m\u001B[43mhx\u001B[49m\u001B[43m,\u001B[49m\u001B[43m \u001B[49m\u001B[38;5;28;43mself\u001B[39;49m\u001B[38;5;241;43m.\u001B[39;49m\u001B[43m_flat_weights\u001B[49m\u001B[43m,\u001B[49m\u001B[43m \u001B[49m\u001B[38;5;28;43mself\u001B[39;49m\u001B[38;5;241;43m.\u001B[39;49m\u001B[43mbias\u001B[49m\u001B[43m,\u001B[49m\u001B[43m \u001B[49m\u001B[38;5;28;43mself\u001B[39;49m\u001B[38;5;241;43m.\u001B[39;49m\u001B[43mnum_layers\u001B[49m\u001B[43m,\u001B[49m\n\u001B[0;32m    951\u001B[0m \u001B[43m                     \u001B[49m\u001B[38;5;28;43mself\u001B[39;49m\u001B[38;5;241;43m.\u001B[39;49m\u001B[43mdropout\u001B[49m\u001B[43m,\u001B[49m\u001B[43m \u001B[49m\u001B[38;5;28;43mself\u001B[39;49m\u001B[38;5;241;43m.\u001B[39;49m\u001B[43mtraining\u001B[49m\u001B[43m,\u001B[49m\u001B[43m \u001B[49m\u001B[38;5;28;43mself\u001B[39;49m\u001B[38;5;241;43m.\u001B[39;49m\u001B[43mbidirectional\u001B[49m\u001B[43m,\u001B[49m\u001B[43m \u001B[49m\u001B[38;5;28;43mself\u001B[39;49m\u001B[38;5;241;43m.\u001B[39;49m\u001B[43mbatch_first\u001B[49m\u001B[43m)\u001B[49m\n\u001B[0;32m    952\u001B[0m \u001B[38;5;28;01melse\u001B[39;00m:\n\u001B[0;32m    953\u001B[0m     result \u001B[38;5;241m=\u001B[39m _VF\u001B[38;5;241m.\u001B[39mgru(\u001B[38;5;28minput\u001B[39m, batch_sizes, hx, \u001B[38;5;28mself\u001B[39m\u001B[38;5;241m.\u001B[39m_flat_weights, \u001B[38;5;28mself\u001B[39m\u001B[38;5;241m.\u001B[39mbias,\n\u001B[0;32m    954\u001B[0m                      \u001B[38;5;28mself\u001B[39m\u001B[38;5;241m.\u001B[39mnum_layers, \u001B[38;5;28mself\u001B[39m\u001B[38;5;241m.\u001B[39mdropout, \u001B[38;5;28mself\u001B[39m\u001B[38;5;241m.\u001B[39mtraining, \u001B[38;5;28mself\u001B[39m\u001B[38;5;241m.\u001B[39mbidirectional)\n",
      "\u001B[1;31mKeyboardInterrupt\u001B[0m: "
     ]
    }
   ],
   "source": [
    "sequence_size = max_frame_count\n",
    "input_size = 21 * 3 * 2 + 33 * 3\n",
    "hidden_size = 200\n",
    "num_layers = 20\n",
    "num_classes = len(ohe.categories_[0])\n",
    "epochs = 100\n",
    "\n",
    "# model = SequenceModel(input_size=225, output_size=num_classes).to(device)\n",
    "# model = LstmModel(input_size, hidden_size, num_layers, num_classes).to(device)\n",
    "model = GruModel(input_size, hidden_size, num_layers, num_classes).to(device)\n",
    "# model = TestModel(input_size=225, sizes=[512, 256, 128, 128, num_classes]).to(device)\n",
    "criterion = nn.CrossEntropyLoss()\n",
    "optimizer = torch.optim.Adam(model.parameters())\n",
    "\n",
    "train_model(model, epochs, criterion, optimizer)"
   ]
  },
  {
   "cell_type": "markdown",
   "source": [
    "## Save the model to file"
   ],
   "metadata": {
    "collapsed": false
   }
  },
  {
   "cell_type": "code",
   "execution_count": 20,
   "metadata": {
    "pycharm": {
     "name": "#%%\n"
    }
   },
   "outputs": [],
   "source": [
    "torch.save(model, f\"model_gru.pt\")"
   ]
  },
  {
   "cell_type": "markdown",
   "source": [
    "## Load model from file and train"
   ],
   "metadata": {
    "collapsed": false
   }
  },
  {
   "cell_type": "code",
   "execution_count": 21,
   "outputs": [
    {
     "name": "stderr",
     "output_type": "stream",
     "text": [
      " 68%|██████▊   | 155/229 [00:50<00:24,  3.08it/s, loss=1.1439564620294878]\n"
     ]
    },
    {
     "ename": "KeyboardInterrupt",
     "evalue": "",
     "output_type": "error",
     "traceback": [
      "\u001B[1;31m---------------------------------------------------------------------------\u001B[0m",
      "\u001B[1;31mKeyboardInterrupt\u001B[0m                         Traceback (most recent call last)",
      "Cell \u001B[1;32mIn[21], line 4\u001B[0m\n\u001B[0;32m      2\u001B[0m criterion \u001B[38;5;241m=\u001B[39m nn\u001B[38;5;241m.\u001B[39mCrossEntropyLoss()\n\u001B[0;32m      3\u001B[0m optimizer \u001B[38;5;241m=\u001B[39m torch\u001B[38;5;241m.\u001B[39moptim\u001B[38;5;241m.\u001B[39mAdam(model\u001B[38;5;241m.\u001B[39mparameters())\n\u001B[1;32m----> 4\u001B[0m \u001B[43mtrain_model\u001B[49m\u001B[43m(\u001B[49m\u001B[43mmodel\u001B[49m\u001B[43m,\u001B[49m\u001B[43m \u001B[49m\u001B[38;5;241;43m35\u001B[39;49m\u001B[43m,\u001B[49m\u001B[43m \u001B[49m\u001B[43mcriterion\u001B[49m\u001B[43m,\u001B[49m\u001B[43m \u001B[49m\u001B[43moptimizer\u001B[49m\u001B[43m)\u001B[49m\n",
      "Cell \u001B[1;32mIn[17], line 46\u001B[0m, in \u001B[0;36mtrain_model\u001B[1;34m(model, epochs, criterion, optimizer)\u001B[0m\n\u001B[0;32m     43\u001B[0m train_loss \u001B[38;5;241m+\u001B[39m\u001B[38;5;241m=\u001B[39m loss\u001B[38;5;241m.\u001B[39mitem()\n\u001B[0;32m     45\u001B[0m \u001B[38;5;66;03m# Backward pass\u001B[39;00m\n\u001B[1;32m---> 46\u001B[0m \u001B[43mloss\u001B[49m\u001B[38;5;241;43m.\u001B[39;49m\u001B[43mbackward\u001B[49m\u001B[43m(\u001B[49m\u001B[43m)\u001B[49m\n\u001B[0;32m     47\u001B[0m optimizer\u001B[38;5;241m.\u001B[39mstep()\n\u001B[0;32m     49\u001B[0m \u001B[38;5;66;03m# Get predicted classes and true classes from data\u001B[39;00m\n",
      "File \u001B[1;32m~\\AppData\\Local\\Programs\\Python\\Python310\\lib\\site-packages\\torch\\_tensor.py:396\u001B[0m, in \u001B[0;36mTensor.backward\u001B[1;34m(self, gradient, retain_graph, create_graph, inputs)\u001B[0m\n\u001B[0;32m    387\u001B[0m \u001B[38;5;28;01mif\u001B[39;00m has_torch_function_unary(\u001B[38;5;28mself\u001B[39m):\n\u001B[0;32m    388\u001B[0m     \u001B[38;5;28;01mreturn\u001B[39;00m handle_torch_function(\n\u001B[0;32m    389\u001B[0m         Tensor\u001B[38;5;241m.\u001B[39mbackward,\n\u001B[0;32m    390\u001B[0m         (\u001B[38;5;28mself\u001B[39m,),\n\u001B[1;32m   (...)\u001B[0m\n\u001B[0;32m    394\u001B[0m         create_graph\u001B[38;5;241m=\u001B[39mcreate_graph,\n\u001B[0;32m    395\u001B[0m         inputs\u001B[38;5;241m=\u001B[39minputs)\n\u001B[1;32m--> 396\u001B[0m \u001B[43mtorch\u001B[49m\u001B[38;5;241;43m.\u001B[39;49m\u001B[43mautograd\u001B[49m\u001B[38;5;241;43m.\u001B[39;49m\u001B[43mbackward\u001B[49m\u001B[43m(\u001B[49m\u001B[38;5;28;43mself\u001B[39;49m\u001B[43m,\u001B[49m\u001B[43m \u001B[49m\u001B[43mgradient\u001B[49m\u001B[43m,\u001B[49m\u001B[43m \u001B[49m\u001B[43mretain_graph\u001B[49m\u001B[43m,\u001B[49m\u001B[43m \u001B[49m\u001B[43mcreate_graph\u001B[49m\u001B[43m,\u001B[49m\u001B[43m \u001B[49m\u001B[43minputs\u001B[49m\u001B[38;5;241;43m=\u001B[39;49m\u001B[43minputs\u001B[49m\u001B[43m)\u001B[49m\n",
      "File \u001B[1;32m~\\AppData\\Local\\Programs\\Python\\Python310\\lib\\site-packages\\torch\\autograd\\__init__.py:173\u001B[0m, in \u001B[0;36mbackward\u001B[1;34m(tensors, grad_tensors, retain_graph, create_graph, grad_variables, inputs)\u001B[0m\n\u001B[0;32m    168\u001B[0m     retain_graph \u001B[38;5;241m=\u001B[39m create_graph\n\u001B[0;32m    170\u001B[0m \u001B[38;5;66;03m# The reason we repeat same the comment below is that\u001B[39;00m\n\u001B[0;32m    171\u001B[0m \u001B[38;5;66;03m# some Python versions print out the first line of a multi-line function\u001B[39;00m\n\u001B[0;32m    172\u001B[0m \u001B[38;5;66;03m# calls in the traceback and some print out the last line\u001B[39;00m\n\u001B[1;32m--> 173\u001B[0m \u001B[43mVariable\u001B[49m\u001B[38;5;241;43m.\u001B[39;49m\u001B[43m_execution_engine\u001B[49m\u001B[38;5;241;43m.\u001B[39;49m\u001B[43mrun_backward\u001B[49m\u001B[43m(\u001B[49m\u001B[43m  \u001B[49m\u001B[38;5;66;43;03m# Calls into the C++ engine to run the backward pass\u001B[39;49;00m\n\u001B[0;32m    174\u001B[0m \u001B[43m    \u001B[49m\u001B[43mtensors\u001B[49m\u001B[43m,\u001B[49m\u001B[43m \u001B[49m\u001B[43mgrad_tensors_\u001B[49m\u001B[43m,\u001B[49m\u001B[43m \u001B[49m\u001B[43mretain_graph\u001B[49m\u001B[43m,\u001B[49m\u001B[43m \u001B[49m\u001B[43mcreate_graph\u001B[49m\u001B[43m,\u001B[49m\u001B[43m \u001B[49m\u001B[43minputs\u001B[49m\u001B[43m,\u001B[49m\n\u001B[0;32m    175\u001B[0m \u001B[43m    \u001B[49m\u001B[43mallow_unreachable\u001B[49m\u001B[38;5;241;43m=\u001B[39;49m\u001B[38;5;28;43;01mTrue\u001B[39;49;00m\u001B[43m,\u001B[49m\u001B[43m \u001B[49m\u001B[43maccumulate_grad\u001B[49m\u001B[38;5;241;43m=\u001B[39;49m\u001B[38;5;28;43;01mTrue\u001B[39;49;00m\u001B[43m)\u001B[49m\n",
      "\u001B[1;31mKeyboardInterrupt\u001B[0m: "
     ]
    }
   ],
   "source": [
    "model = torch.load('model_gru.pt')\n",
    "criterion = nn.CrossEntropyLoss()\n",
    "optimizer = torch.optim.Adam(model.parameters())\n",
    "train_model(model, 35, criterion, optimizer)"
   ],
   "metadata": {
    "collapsed": false,
    "pycharm": {
     "name": "#%%\n"
    }
   }
  },
  {
   "cell_type": "code",
   "execution_count": null,
   "outputs": [],
   "source": [],
   "metadata": {
    "collapsed": false,
    "pycharm": {
     "name": "#%%\n"
    }
   }
  }
 ],
 "metadata": {
  "colab": {
   "provenance": []
  },
  "kernelspec": {
   "display_name": "Python 3 (ipykernel)",
   "language": "python",
   "name": "python3"
  },
  "language_info": {
   "codemirror_mode": {
    "name": "ipython",
    "version": 3
   },
   "file_extension": ".py",
   "mimetype": "text/x-python",
   "name": "python",
   "nbconvert_exporter": "python",
   "pygments_lexer": "ipython3",
   "version": "3.10.4"
  }
 },
 "nbformat": 4,
 "nbformat_minor": 4
}