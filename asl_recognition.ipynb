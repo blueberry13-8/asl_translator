{
 "cells": [
  {
   "cell_type": "markdown",
   "metadata": {},
   "source": [
    "# TODO\n",
    "\n",
    "- ~~Convert classes from text to tensor array with size 100~~\n",
    "- ~~Complete train loop (it is not working now) due to problem above~~\n",
    "- Find good LSTM architecture\n",
    "- Check how fast is our approach with per frame check\n",
    "- ~~Check if we can put videos with different frame number~~"
   ]
  },
  {
   "cell_type": "markdown",
   "metadata": {
    "jp-MarkdownHeadingCollapsed": true
   },
   "source": [
    "## Web cum test (should we delete it?)"
   ]
  },
  {
   "cell_type": "code",
   "execution_count": 4,
   "metadata": {
    "pycharm": {
     "name": "#%%\n"
    }
   },
   "outputs": [],
   "source": [
    "import time\n",
    "import cv2\n",
    "from cvzone.HandTrackingModule import HandDetector\n",
    "from cvzone.PoseModule import PoseDetector\n",
    "\n",
    "\n",
    "def webcum():\n",
    "    cap = cv2.VideoCapture(0)\n",
    "    hands_detector = HandDetector()\n",
    "    pose_detector = PoseDetector()\n",
    "    while True:\n",
    "        success, img = cap.read()\n",
    "        hands, img1 = hands_detector.findHands(img)\n",
    "        print(hands)\n",
    "        img2 = pose_detector.findPose(img)\n",
    "        lmList, bboxInfo = pose_detector.findPosition(img, bboxWithHands=False)\n",
    "        print(lmList)\n",
    "        print()\n",
    "        time.sleep(2)\n",
    "        # cv2.imshow(\"CUM\", img)\n",
    "        # cv2.waitKey(1)"
   ]
  },
  {
   "cell_type": "markdown",
   "metadata": {},
   "source": [
    "## Device Stuff"
   ]
  },
  {
   "cell_type": "code",
   "execution_count": 153,
   "metadata": {},
   "outputs": [
    {
     "name": "stdout",
     "output_type": "stream",
     "text": [
      "cpu\n"
     ]
    }
   ],
   "source": [
    "import torch\n",
    "\n",
    "#Set up device\n",
    "use_cuda = torch.cuda.is_available()\n",
    "device = torch.device(\"cuda\" if use_cuda else \"cpu\")\n",
    "print(device)"
   ]
  },
  {
   "cell_type": "markdown",
   "metadata": {},
   "source": [
    "## Dataset"
   ]
  },
  {
   "cell_type": "code",
   "execution_count": 154,
   "metadata": {},
   "outputs": [],
   "source": [
    "import json\n",
    "import os\n",
    "import torch\n",
    "import numpy as np\n",
    "import pandas as pd\n",
    "from torch.utils.data import Dataset, DataLoader"
   ]
  },
  {
   "cell_type": "code",
   "execution_count": 155,
   "metadata": {},
   "outputs": [
    {
     "data": {
      "text/html": [
       "<div>\n",
       "<style scoped>\n",
       "    .dataframe tbody tr th:only-of-type {\n",
       "        vertical-align: middle;\n",
       "    }\n",
       "\n",
       "    .dataframe tbody tr th {\n",
       "        vertical-align: top;\n",
       "    }\n",
       "\n",
       "    .dataframe thead th {\n",
       "        text-align: right;\n",
       "    }\n",
       "</style>\n",
       "<table border=\"1\" class=\"dataframe\">\n",
       "  <thead>\n",
       "    <tr style=\"text-align: right;\">\n",
       "      <th></th>\n",
       "      <th>video_name</th>\n",
       "      <th>subset</th>\n",
       "      <th>start_frame</th>\n",
       "      <th>end_frame</th>\n",
       "      <th>class_id</th>\n",
       "    </tr>\n",
       "  </thead>\n",
       "  <tbody>\n",
       "    <tr>\n",
       "      <th>0</th>\n",
       "      <td>05727</td>\n",
       "      <td>test</td>\n",
       "      <td>1</td>\n",
       "      <td>74</td>\n",
       "      <td>3</td>\n",
       "    </tr>\n",
       "    <tr>\n",
       "      <th>1</th>\n",
       "      <td>05728</td>\n",
       "      <td>train</td>\n",
       "      <td>1</td>\n",
       "      <td>27</td>\n",
       "      <td>3</td>\n",
       "    </tr>\n",
       "    <tr>\n",
       "      <th>2</th>\n",
       "      <td>05729</td>\n",
       "      <td>train</td>\n",
       "      <td>1</td>\n",
       "      <td>45</td>\n",
       "      <td>3</td>\n",
       "    </tr>\n",
       "    <tr>\n",
       "      <th>3</th>\n",
       "      <td>05730</td>\n",
       "      <td>train</td>\n",
       "      <td>1</td>\n",
       "      <td>32</td>\n",
       "      <td>3</td>\n",
       "    </tr>\n",
       "    <tr>\n",
       "      <th>4</th>\n",
       "      <td>05731</td>\n",
       "      <td>train</td>\n",
       "      <td>1</td>\n",
       "      <td>47</td>\n",
       "      <td>3</td>\n",
       "    </tr>\n",
       "    <tr>\n",
       "      <th>5</th>\n",
       "      <td>05732</td>\n",
       "      <td>train</td>\n",
       "      <td>1</td>\n",
       "      <td>73</td>\n",
       "      <td>3</td>\n",
       "    </tr>\n",
       "    <tr>\n",
       "      <th>6</th>\n",
       "      <td>05733</td>\n",
       "      <td>train</td>\n",
       "      <td>1</td>\n",
       "      <td>92</td>\n",
       "      <td>3</td>\n",
       "    </tr>\n",
       "    <tr>\n",
       "      <th>7</th>\n",
       "      <td>05734</td>\n",
       "      <td>train</td>\n",
       "      <td>1</td>\n",
       "      <td>69</td>\n",
       "      <td>3</td>\n",
       "    </tr>\n",
       "    <tr>\n",
       "      <th>8</th>\n",
       "      <td>05739</td>\n",
       "      <td>test</td>\n",
       "      <td>1</td>\n",
       "      <td>44</td>\n",
       "      <td>3</td>\n",
       "    </tr>\n",
       "    <tr>\n",
       "      <th>9</th>\n",
       "      <td>05740</td>\n",
       "      <td>train</td>\n",
       "      <td>1</td>\n",
       "      <td>42</td>\n",
       "      <td>3</td>\n",
       "    </tr>\n",
       "    <tr>\n",
       "      <th>10</th>\n",
       "      <td>05741</td>\n",
       "      <td>test</td>\n",
       "      <td>1</td>\n",
       "      <td>28</td>\n",
       "      <td>3</td>\n",
       "    </tr>\n",
       "    <tr>\n",
       "      <th>11</th>\n",
       "      <td>05742</td>\n",
       "      <td>train</td>\n",
       "      <td>1</td>\n",
       "      <td>25</td>\n",
       "      <td>3</td>\n",
       "    </tr>\n",
       "    <tr>\n",
       "      <th>12</th>\n",
       "      <td>05743</td>\n",
       "      <td>train</td>\n",
       "      <td>1</td>\n",
       "      <td>41</td>\n",
       "      <td>3</td>\n",
       "    </tr>\n",
       "    <tr>\n",
       "      <th>13</th>\n",
       "      <td>05749</td>\n",
       "      <td>train</td>\n",
       "      <td>1</td>\n",
       "      <td>77</td>\n",
       "      <td>3</td>\n",
       "    </tr>\n",
       "    <tr>\n",
       "      <th>14</th>\n",
       "      <td>05750</td>\n",
       "      <td>val</td>\n",
       "      <td>1</td>\n",
       "      <td>85</td>\n",
       "      <td>3</td>\n",
       "    </tr>\n",
       "    <tr>\n",
       "      <th>15</th>\n",
       "      <td>57933</td>\n",
       "      <td>val</td>\n",
       "      <td>1</td>\n",
       "      <td>77</td>\n",
       "      <td>14</td>\n",
       "    </tr>\n",
       "    <tr>\n",
       "      <th>16</th>\n",
       "      <td>57934</td>\n",
       "      <td>train</td>\n",
       "      <td>1</td>\n",
       "      <td>77</td>\n",
       "      <td>14</td>\n",
       "    </tr>\n",
       "    <tr>\n",
       "      <th>17</th>\n",
       "      <td>57935</td>\n",
       "      <td>train</td>\n",
       "      <td>1</td>\n",
       "      <td>77</td>\n",
       "      <td>14</td>\n",
       "    </tr>\n",
       "    <tr>\n",
       "      <th>18</th>\n",
       "      <td>57936</td>\n",
       "      <td>train</td>\n",
       "      <td>1</td>\n",
       "      <td>30</td>\n",
       "      <td>14</td>\n",
       "    </tr>\n",
       "    <tr>\n",
       "      <th>19</th>\n",
       "      <td>57937</td>\n",
       "      <td>train</td>\n",
       "      <td>1</td>\n",
       "      <td>28</td>\n",
       "      <td>14</td>\n",
       "    </tr>\n",
       "    <tr>\n",
       "      <th>20</th>\n",
       "      <td>57939</td>\n",
       "      <td>train</td>\n",
       "      <td>1</td>\n",
       "      <td>33</td>\n",
       "      <td>14</td>\n",
       "    </tr>\n",
       "    <tr>\n",
       "      <th>21</th>\n",
       "      <td>57940</td>\n",
       "      <td>train</td>\n",
       "      <td>1</td>\n",
       "      <td>27</td>\n",
       "      <td>14</td>\n",
       "    </tr>\n",
       "    <tr>\n",
       "      <th>22</th>\n",
       "      <td>57941</td>\n",
       "      <td>test</td>\n",
       "      <td>1</td>\n",
       "      <td>31</td>\n",
       "      <td>14</td>\n",
       "    </tr>\n",
       "    <tr>\n",
       "      <th>23</th>\n",
       "      <td>57942</td>\n",
       "      <td>train</td>\n",
       "      <td>1</td>\n",
       "      <td>63</td>\n",
       "      <td>14</td>\n",
       "    </tr>\n",
       "    <tr>\n",
       "      <th>24</th>\n",
       "      <td>57943</td>\n",
       "      <td>test</td>\n",
       "      <td>1</td>\n",
       "      <td>101</td>\n",
       "      <td>14</td>\n",
       "    </tr>\n",
       "    <tr>\n",
       "      <th>25</th>\n",
       "      <td>57947</td>\n",
       "      <td>train</td>\n",
       "      <td>1</td>\n",
       "      <td>40</td>\n",
       "      <td>14</td>\n",
       "    </tr>\n",
       "    <tr>\n",
       "      <th>26</th>\n",
       "      <td>57948</td>\n",
       "      <td>val</td>\n",
       "      <td>1</td>\n",
       "      <td>46</td>\n",
       "      <td>14</td>\n",
       "    </tr>\n",
       "    <tr>\n",
       "      <th>27</th>\n",
       "      <td>57949</td>\n",
       "      <td>train</td>\n",
       "      <td>1</td>\n",
       "      <td>46</td>\n",
       "      <td>14</td>\n",
       "    </tr>\n",
       "    <tr>\n",
       "      <th>28</th>\n",
       "      <td>57953</td>\n",
       "      <td>train</td>\n",
       "      <td>1</td>\n",
       "      <td>74</td>\n",
       "      <td>14</td>\n",
       "    </tr>\n",
       "    <tr>\n",
       "      <th>29</th>\n",
       "      <td>65167</td>\n",
       "      <td>train</td>\n",
       "      <td>1</td>\n",
       "      <td>60</td>\n",
       "      <td>3</td>\n",
       "    </tr>\n",
       "    <tr>\n",
       "      <th>30</th>\n",
       "      <td>66606</td>\n",
       "      <td>train</td>\n",
       "      <td>1</td>\n",
       "      <td>65</td>\n",
       "      <td>14</td>\n",
       "    </tr>\n",
       "    <tr>\n",
       "      <th>31</th>\n",
       "      <td>66607</td>\n",
       "      <td>val</td>\n",
       "      <td>1</td>\n",
       "      <td>75</td>\n",
       "      <td>14</td>\n",
       "    </tr>\n",
       "  </tbody>\n",
       "</table>\n",
       "</div>"
      ],
      "text/plain": [
       "   video_name subset  start_frame  end_frame  class_id\n",
       "0       05727   test            1         74         3\n",
       "1       05728  train            1         27         3\n",
       "2       05729  train            1         45         3\n",
       "3       05730  train            1         32         3\n",
       "4       05731  train            1         47         3\n",
       "5       05732  train            1         73         3\n",
       "6       05733  train            1         92         3\n",
       "7       05734  train            1         69         3\n",
       "8       05739   test            1         44         3\n",
       "9       05740  train            1         42         3\n",
       "10      05741   test            1         28         3\n",
       "11      05742  train            1         25         3\n",
       "12      05743  train            1         41         3\n",
       "13      05749  train            1         77         3\n",
       "14      05750    val            1         85         3\n",
       "15      57933    val            1         77        14\n",
       "16      57934  train            1         77        14\n",
       "17      57935  train            1         77        14\n",
       "18      57936  train            1         30        14\n",
       "19      57937  train            1         28        14\n",
       "20      57939  train            1         33        14\n",
       "21      57940  train            1         27        14\n",
       "22      57941   test            1         31        14\n",
       "23      57942  train            1         63        14\n",
       "24      57943   test            1        101        14\n",
       "25      57947  train            1         40        14\n",
       "26      57948    val            1         46        14\n",
       "27      57949  train            1         46        14\n",
       "28      57953  train            1         74        14\n",
       "29      65167  train            1         60         3\n",
       "30      66606  train            1         65        14\n",
       "31      66607    val            1         75        14"
      ]
     },
     "execution_count": 155,
     "metadata": {},
     "output_type": "execute_result"
    }
   ],
   "source": [
    "# Create a dataframe dataset object with all videos from .json config\n",
    "\n",
    "def create_dataframe(json_config, videos_root):\n",
    "    data = []\n",
    "    videos = json.load(open(json_config))\n",
    "    train, val, test = dict(), dict(), dict()\n",
    "    for name in os.listdir(videos_root):\n",
    "        name = name[:-4]\n",
    "        if videos.get(name) is None:\n",
    "            continue\n",
    "        video = videos[name]\n",
    "        data.append([name, video['subset'], video['action'][1], video['action'][2], video['action'][0]])\n",
    "    return pd.DataFrame(data, columns=['video_name', 'subset', 'start_frame', 'end_frame', 'class_id'])\n",
    "\n",
    "dataset = create_dataframe('output3.json', 'wlasl_dataset/videos')\n",
    "dataset"
   ]
  },
  {
   "cell_type": "code",
   "execution_count": 157,
   "metadata": {},
   "outputs": [
    {
     "data": {
      "text/plain": [
       "array([1., 0.])"
      ]
     },
     "execution_count": 157,
     "metadata": {},
     "output_type": "execute_result"
    }
   ],
   "source": [
    "from sklearn.preprocessing import OneHotEncoder\n",
    "\n",
    "# Train one hot encoder to encoded classes from our dataset\n",
    "all_classes = dataset[\"class_id\"].to_list()\n",
    "ohe = OneHotEncoder()\n",
    "ohe.fit(np.array(all_classes).reshape(-1,1))\n",
    "\n",
    "# Test\n",
    "ohe.transform([[3]]).toarray()[0]"
   ]
  },
  {
   "cell_type": "code",
   "execution_count": 158,
   "metadata": {
    "id": "mo19lj56lIbi"
   },
   "outputs": [],
   "source": [
    "from os.path import exists\n",
    "import torch.nn.functional as F\n",
    "\n",
    "class ASLDataset(Dataset):\n",
    "    \"\"\"\n",
    "    A custom dataset class for loading American Sign Language (ASL) videos and their corresponding labels.\n",
    "\n",
    "    Args:\n",
    "        tensors_folder (str): Path to the folder containing the .pt arrays (converted videos).\n",
    "        dataset_df (DataFrame): Pandas dataframe with information about videos\n",
    "        max_frame_count (int): Maximum length of video in frames.\n",
    "        ohe (OneHotEncoder): Required to encode class id to one hot numeric array.\n",
    "\n",
    "    Attributes:\n",
    "        tensors_folder (str): Path to the folder containing the .pt arrays (converted videos).\n",
    "        name_with_label (dict): A dictionary mapping video names to their labels.\n",
    "        classes (list): A list of class names.\n",
    "    \"\"\"\n",
    "\n",
    "    def __init__(self, tensors_folder: str, dataset_df: pd.DataFrame, max_frame_count: int, ohe: OneHotEncoder) -> None:\n",
    "        # Default frame (set of points) to insert in short videos to make all videos equal in length\n",
    "        default_frame = [0] * (21 * 3 * 2 + 33 * 3)\n",
    "        \n",
    "        self.tensor_sequences = []\n",
    "        self.targets = []\n",
    "        for index, row in dataset_df.iterrows():\n",
    "            path_to_tensor = tensors_folder + '/' + row[\"video_name\"] + '.pt'\n",
    "            \n",
    "            if not exists(path_to_tensor):\n",
    "                continue\n",
    "            \n",
    "            # Open the video file using OpenCV\n",
    "            tensor = torch.load(path_to_tensor)\n",
    "\n",
    "            # Change length of video (not a video but sequence of frames with points coordinates in each frame)\n",
    "            # pad_right = [default_frame for _ in range(0, max_frame_count - tensor.shape[0])]\n",
    "            # pad_right = torch.tensor(pad_right)\n",
    "            # self.tensor_sequences.append(torch.cat((pad_right, F.normalize(tensor.float(), dim=1))))\n",
    "            self.tensor_sequences.append(F.normalize(tensor.float(), dim=1))\n",
    "        self.targets = torch.tensor(ohe.transform(np.array(dataset_df[\"class_id\"]).reshape(-1,1)).toarray())\n",
    "            \n",
    "            \n",
    "    def __len__(self):\n",
    "        \"\"\"\n",
    "        Returns the number of videos in the dataset.\n",
    "\n",
    "        Returns:\n",
    "            int: The number of videos in the dataset.\n",
    "        \"\"\"\n",
    "        return len(self.targets)\n",
    "\n",
    "    def __getitem__(self, index):\n",
    "        \"\"\"\n",
    "        Retrieves a video and its corresponding label from the dataset.\n",
    "\n",
    "        Args:\n",
    "            index (int): The index of the video to retrieve.\n",
    "\n",
    "        Returns:\n",
    "            tuple: A tuple containing the video frames as a PyTorch tensor and the label.\n",
    "        \"\"\"\n",
    "\n",
    "        return self.tensor_sequences[index].float(), self.targets[index].float()\n"
   ]
  },
  {
   "cell_type": "code",
   "execution_count": 159,
   "metadata": {},
   "outputs": [],
   "source": [
    "def read_classes(path):\n",
    "    classes = dict()\n",
    "    with open(path, 'r') as file:\n",
    "        for line in file:\n",
    "            line = line.strip().split('\\t')\n",
    "            key = int(line[0])\n",
    "            value = line[1]\n",
    "            classes[key] = value\n",
    "    return classes"
   ]
  },
  {
   "cell_type": "code",
   "execution_count": 160,
   "metadata": {},
   "outputs": [
    {
     "name": "stdout",
     "output_type": "stream",
     "text": [
      "Maximum length of video in frames in current dataset is 101\n"
     ]
    }
   ],
   "source": [
    "max_frame_count = max(dataset[\"end_frame\"] - dataset[\"start_frame\"] + 1)\n",
    "print(f\"Maximum length of video in frames in current dataset is {max_frame_count}\")"
   ]
  },
  {
   "cell_type": "code",
   "execution_count": 167,
   "metadata": {
    "pycharm": {
     "name": "#%%\n"
    }
   },
   "outputs": [],
   "source": [
    "train = dataset[dataset[\"subset\"] == \"train\"]\n",
    "#val = dataset[dataset[\"subset\"] == \"val\"]\n",
    "test = dataset[dataset[\"subset\"] == \"test\"]\n",
    "classes = read_classes('wlasl_dataset/wlasl_class_list.txt')\n",
    "\n",
    "train_dataset = ASLDataset('point_arrays', train, max_frame_count, ohe)\n",
    "#val_dataset = ASLDataset('custom_dataset/point_arrays', val, max_frame_count, ohe)\n",
    "test_dataset = ASLDataset('point_arrays', test, max_frame_count, ohe)"
   ]
  },
  {
   "cell_type": "code",
   "execution_count": 168,
   "metadata": {},
   "outputs": [
    {
     "data": {
      "text/plain": [
       "(tensor([[ 0.0000,  0.0000,  0.0000,  ...,  0.0701,  0.2254, -0.1015],\n",
       "         [ 0.0000,  0.0000,  0.0000,  ...,  0.0665,  0.2097, -0.0235],\n",
       "         [ 0.0000,  0.0000,  0.0000,  ...,  0.0695,  0.2169, -0.0138],\n",
       "         ...,\n",
       "         [ 0.0459,  0.0641,  0.0000,  ...,  0.0517,  0.1674,  0.0330],\n",
       "         [ 0.0481,  0.0671,  0.0000,  ...,  0.0531,  0.1684,  0.0499],\n",
       "         [ 0.0545,  0.0763,  0.0000,  ...,  0.0578,  0.1838,  0.0345]]),\n",
       " tensor([1., 0.]))"
      ]
     },
     "execution_count": 168,
     "metadata": {},
     "output_type": "execute_result"
    }
   ],
   "source": [
    "train_dataset[1]"
   ]
  },
  {
   "cell_type": "code",
   "execution_count": 169,
   "metadata": {},
   "outputs": [
    {
     "name": "stdout",
     "output_type": "stream",
     "text": [
      "Train size: 23\n",
      "Test size: 5\n"
     ]
    }
   ],
   "source": [
    "# Create dataloaders\n",
    "\n",
    "batch_size = 1\n",
    "\n",
    "train_dataloader = DataLoader(train_dataset, batch_size=batch_size, shuffle=True)\n",
    "#val_dataloader = DataLoader(val_dataset, batch_size=batch_size, shuffle=True)\n",
    "test_dataloader = DataLoader(test_dataset, batch_size=batch_size, shuffle=False)\n",
    "\n",
    "print(f\"Train size: {len(train_dataset)}\")\n",
    "#print(f\"Validation size: {len(val_dataset)}\")\n",
    "print(f\"Test size: {len(test_dataset)}\")"
   ]
  },
  {
   "cell_type": "markdown",
   "metadata": {
    "pycharm": {
     "name": "#%%\n"
    }
   },
   "source": [
    "## Model"
   ]
  },
  {
   "cell_type": "code",
   "execution_count": 170,
   "metadata": {},
   "outputs": [],
   "source": [
    "import torch.nn as nn\n",
    "\n",
    "class SequenceModel(nn.Module):\n",
    "    def __init__(self, input_size=1662, output_size=100) -> None:\n",
    "        super().__init__()\n",
    "        self.lstm = nn.Sequential(\n",
    "            nn.LSTM(input_size, 64, 1, batch_first=True), # TODO: Разобраться с LSTM в pytorch\n",
    "        )\n",
    "        self.linear = nn.Sequential(\n",
    "            nn.Linear(64, 16),\n",
    "            nn.ReLU(),\n",
    "            nn.Linear(16, output_size),\n",
    "            nn.Softmax(dim=1),\n",
    "        )\n",
    "\n",
    "    def forward(self, x):\n",
    "        x, _ = self.lstm(x)\n",
    "        x = self.linear(x[:,-1,:])\n",
    "\n",
    "        return x"
   ]
  },
  {
   "cell_type": "code",
   "execution_count": 174,
   "metadata": {},
   "outputs": [
    {
     "data": {
      "text/plain": [
       "SequenceModel(\n",
       "  (lstm): Sequential(\n",
       "    (0): LSTM(225, 64, batch_first=True)\n",
       "  )\n",
       "  (linear): Sequential(\n",
       "    (0): Linear(in_features=64, out_features=16, bias=True)\n",
       "    (1): ReLU()\n",
       "    (2): Linear(in_features=16, out_features=2, bias=True)\n",
       "    (3): Softmax(dim=1)\n",
       "  )\n",
       ")"
      ]
     },
     "execution_count": 174,
     "metadata": {},
     "output_type": "execute_result"
    }
   ],
   "source": [
    "model = SequenceModel(input_size=225, output_size=2)\n",
    "model"
   ]
  },
  {
   "cell_type": "markdown",
   "metadata": {},
   "source": [
    "## Training"
   ]
  },
  {
   "cell_type": "code",
   "execution_count": 175,
   "metadata": {},
   "outputs": [],
   "source": [
    "from sklearn.metrics import f1_score, accuracy_score\n",
    "from tqdm import tqdm\n",
    "\n",
    "\n",
    "def train_model(model: nn.Module, epochs: int, criterion, optimizer):\n",
    "    \"\"\"\n",
    "    Function that trains model using number of epochs, loss function, optimizer.\n",
    "    Can use validation or test data set for evaluation.\n",
    "    Calculates f1 score.\n",
    "\n",
    "    Parameter\n",
    "    ---------\n",
    "    model : nn.Module\n",
    "      Model to train.\n",
    "    epochs: int\n",
    "      Number of train epochs\n",
    "    criterion\n",
    "      The loss function from pytorch\n",
    "    optimizer\n",
    "      The optimizer from pytorch\n",
    "    \"\"\"\n",
    "\n",
    "    # Train the model\n",
    "    for epoch in range(epochs):\n",
    "        model.train()\n",
    "\n",
    "        #\n",
    "        predicted_train = []\n",
    "        true_train = []\n",
    "\n",
    "        train_loss = 0.0\n",
    "\n",
    "        bar = tqdm(train_dataloader)\n",
    "        iterations = 0\n",
    "\n",
    "        for inputs, outputs in bar:\n",
    "            # Zero the gradients\n",
    "            optimizer.zero_grad()\n",
    "\n",
    "            # Forward pass\n",
    "            predictions = model(inputs.to(device))\n",
    "            loss = criterion(predictions, outputs.to(device))\n",
    "            train_loss += loss.item()\n",
    "\n",
    "            # Backward pass\n",
    "            loss.backward()\n",
    "            optimizer.step()\n",
    "\n",
    "            # Get predicted classes and true classes from data\n",
    "            for item in predictions:\n",
    "                predicted_train.append(int(torch.argmax(item).cpu().numpy()))\n",
    "            for item in outputs:\n",
    "                true_train.append(int(torch.argmax(item).cpu().numpy()))\n",
    "            iterations += 1\n",
    "            bar.set_postfix(({\"loss\": f\"{train_loss/(iterations*train_dataloader.batch_size)}\"}))\n",
    "\n",
    "        # Computing loss\n",
    "        train_loss /= len(train_dataset)\n",
    "        # Computing f1 score\n",
    "        train_f1 = f1_score(true_train, predicted_train, average=\"macro\")\n",
    "\n",
    "        # Printing information in the end of train loop\n",
    "        test_loss, test_f1 = test_model(model, criterion, test_dataloader)\n",
    "        print(f\"Epoch {epoch+1} train (loss: {train_loss:.4f}, f1 score: {train_f1:.4f}) test (loss: {test_loss:.4f}, f1 score: {test_f1:.4f})\")\n",
    "\n",
    "\n",
    "def test_model(model: nn.Module, criterion, test_dataloader: DataLoader):\n",
    "    \"\"\"\n",
    "    Function that evaluates model on specified dataloader\n",
    "    by specified loss function.\n",
    "\n",
    "    Parameter\n",
    "    ---------\n",
    "    model : nn.Module\n",
    "      Model to train.\n",
    "    criterion\n",
    "      The loss function from pytorch\n",
    "    test_dataloader: DataLoader\n",
    "      The dataset for testing model\n",
    "\n",
    "    Returns\n",
    "    -------\n",
    "    float: loss of model on given dataset\n",
    "    float: f1 score of model on given dataset\n",
    "    \"\"\"\n",
    "\n",
    "    model.eval()\n",
    "\n",
    "    # Test loss value\n",
    "    test_loss = 0.0\n",
    "\n",
    "    # Lists for calculation f1 score\n",
    "    predicted_test = []\n",
    "    true_test = []\n",
    "\n",
    "    with torch.no_grad():\n",
    "        for inputs, outputs in test_dataloader:\n",
    "\n",
    "            # Forward pass\n",
    "            predictions = model(inputs.to(device))\n",
    "            test_loss += criterion(predictions, outputs.to(device))\n",
    "\n",
    "            # Get predicted classes and true classes from data\n",
    "            for item in predictions:\n",
    "                predicted_test.append(int(torch.argmax(item).cpu().numpy()))\n",
    "            for item in outputs:\n",
    "                true_test.append(int(torch.argmax(item).cpu().numpy()))\n",
    "\n",
    "    # Computation of test loss\n",
    "    test_loss /= len(test_dataloader)\n",
    "\n",
    "    # Computation of f1 score\n",
    "    test_f1 = f1_score(true_test, predicted_test, average=\"macro\")\n",
    "    return test_loss.item(), test_f1\n"
   ]
  },
  {
   "cell_type": "code",
   "execution_count": 176,
   "metadata": {},
   "outputs": [
    {
     "name": "stderr",
     "output_type": "stream",
     "text": [
      "100%|████████████████████████████████████████████████████████| 23/23 [00:00<00:00, 270.53it/s, loss=0.6930575396703638]\n"
     ]
    },
    {
     "name": "stdout",
     "output_type": "stream",
     "text": [
      "Epoch 1 train (loss: 0.6931, f1 score: 0.3429) test (loss: 0.6867, f1 score: 0.3750)\n"
     ]
    },
    {
     "name": "stderr",
     "output_type": "stream",
     "text": [
      "100%|████████████████████████████████████████████████████████| 23/23 [00:00<00:00, 283.89it/s, loss=0.6921563070753346]\n"
     ]
    },
    {
     "name": "stdout",
     "output_type": "stream",
     "text": [
      "Epoch 2 train (loss: 0.6922, f1 score: 0.3429) test (loss: 0.6865, f1 score: 0.3750)\n"
     ]
    },
    {
     "name": "stderr",
     "output_type": "stream",
     "text": [
      "100%|████████████████████████████████████████████████████████| 23/23 [00:00<00:00, 315.00it/s, loss=0.6921951615292093]\n"
     ]
    },
    {
     "name": "stdout",
     "output_type": "stream",
     "text": [
      "Epoch 3 train (loss: 0.6922, f1 score: 0.3429) test (loss: 0.6857, f1 score: 0.3750)\n"
     ]
    },
    {
     "name": "stderr",
     "output_type": "stream",
     "text": [
      "100%|████████████████████████████████████████████████████████| 23/23 [00:00<00:00, 324.07it/s, loss=0.6926945007365682]\n"
     ]
    },
    {
     "name": "stdout",
     "output_type": "stream",
     "text": [
      "Epoch 4 train (loss: 0.6927, f1 score: 0.3429) test (loss: 0.6852, f1 score: 0.3750)\n"
     ]
    },
    {
     "name": "stderr",
     "output_type": "stream",
     "text": [
      "100%|████████████████████████████████████████████████████████| 23/23 [00:00<00:00, 315.25it/s, loss=0.6911024839981742]\n"
     ]
    },
    {
     "name": "stdout",
     "output_type": "stream",
     "text": [
      "Epoch 5 train (loss: 0.6911, f1 score: 0.3429) test (loss: 0.6862, f1 score: 0.3750)\n"
     ]
    },
    {
     "name": "stderr",
     "output_type": "stream",
     "text": [
      "100%|████████████████████████████████████████████████████████| 23/23 [00:00<00:00, 306.41it/s, loss=0.6898137097773345]\n"
     ]
    },
    {
     "name": "stdout",
     "output_type": "stream",
     "text": [
      "Epoch 6 train (loss: 0.6898, f1 score: 0.3429) test (loss: 0.6858, f1 score: 0.3750)\n"
     ]
    },
    {
     "name": "stderr",
     "output_type": "stream",
     "text": [
      "100%|████████████████████████████████████████████████████████| 23/23 [00:00<00:00, 319.37it/s, loss=0.6949174663294917]\n"
     ]
    },
    {
     "name": "stdout",
     "output_type": "stream",
     "text": [
      "Epoch 7 train (loss: 0.6949, f1 score: 0.3429) test (loss: 0.6828, f1 score: 0.3750)\n"
     ]
    },
    {
     "name": "stderr",
     "output_type": "stream",
     "text": [
      "100%|████████████████████████████████████████████████████████| 23/23 [00:00<00:00, 252.50it/s, loss=0.6925574592922045]\n"
     ]
    },
    {
     "name": "stdout",
     "output_type": "stream",
     "text": [
      "Epoch 8 train (loss: 0.6926, f1 score: 0.3429) test (loss: 0.6823, f1 score: 0.3750)\n"
     ]
    },
    {
     "name": "stderr",
     "output_type": "stream",
     "text": [
      "100%|████████████████████████████████████████████████████████| 23/23 [00:00<00:00, 323.87it/s, loss=0.6896085687305616]\n"
     ]
    },
    {
     "name": "stdout",
     "output_type": "stream",
     "text": [
      "Epoch 9 train (loss: 0.6896, f1 score: 0.3429) test (loss: 0.6835, f1 score: 0.3750)\n"
     ]
    },
    {
     "name": "stderr",
     "output_type": "stream",
     "text": [
      "100%|████████████████████████████████████████████████████████| 23/23 [00:00<00:00, 302.14it/s, loss=0.6794725708339525]\n"
     ]
    },
    {
     "name": "stdout",
     "output_type": "stream",
     "text": [
      "Epoch 10 train (loss: 0.6795, f1 score: 0.4866) test (loss: 0.6961, f1 score: 0.4000)\n"
     ]
    },
    {
     "name": "stderr",
     "output_type": "stream",
     "text": [
      "100%|████████████████████████████████████████████████████████| 23/23 [00:00<00:00, 306.53it/s, loss=0.7120451693949492]\n"
     ]
    },
    {
     "name": "stdout",
     "output_type": "stream",
     "text": [
      "Epoch 11 train (loss: 0.7120, f1 score: 0.4866) test (loss: 0.7203, f1 score: 0.2857)\n"
     ]
    },
    {
     "name": "stderr",
     "output_type": "stream",
     "text": [
      "100%|█████████████████████████████████████████████████████████| 23/23 [00:00<00:00, 314.77it/s, loss=0.698552976483884]\n"
     ]
    },
    {
     "name": "stdout",
     "output_type": "stream",
     "text": [
      "Epoch 12 train (loss: 0.6986, f1 score: 0.3235) test (loss: 0.7006, f1 score: 0.2857)\n"
     ]
    },
    {
     "name": "stderr",
     "output_type": "stream",
     "text": [
      "100%|████████████████████████████████████████████████████████| 23/23 [00:00<00:00, 318.86it/s, loss=0.6975186104359834]\n"
     ]
    },
    {
     "name": "stdout",
     "output_type": "stream",
     "text": [
      "Epoch 13 train (loss: 0.6975, f1 score: 0.2923) test (loss: 0.6932, f1 score: 0.5833)\n"
     ]
    },
    {
     "name": "stderr",
     "output_type": "stream",
     "text": [
      "100%|████████████████████████████████████████████████████████| 23/23 [00:00<00:00, 280.22it/s, loss=0.6948072029196698]\n"
     ]
    },
    {
     "name": "stdout",
     "output_type": "stream",
     "text": [
      "Epoch 14 train (loss: 0.6948, f1 score: 0.3611) test (loss: 0.6912, f1 score: 0.3750)\n"
     ]
    },
    {
     "name": "stderr",
     "output_type": "stream",
     "text": [
      "100%|████████████████████████████████████████████████████████| 23/23 [00:00<00:00, 323.03it/s, loss=0.6927423684493356]\n"
     ]
    },
    {
     "name": "stdout",
     "output_type": "stream",
     "text": [
      "Epoch 15 train (loss: 0.6927, f1 score: 0.3429) test (loss: 0.6920, f1 score: 0.3750)\n"
     ]
    },
    {
     "name": "stderr",
     "output_type": "stream",
     "text": [
      "100%|████████████████████████████████████████████████████████| 23/23 [00:00<00:00, 323.87it/s, loss=0.6806703287622203]\n"
     ]
    },
    {
     "name": "stdout",
     "output_type": "stream",
     "text": [
      "Epoch 16 train (loss: 0.6807, f1 score: 0.3429) test (loss: 0.6916, f1 score: 0.3750)\n"
     ]
    },
    {
     "name": "stderr",
     "output_type": "stream",
     "text": [
      "100%|████████████████████████████████████████████████████████| 23/23 [00:00<00:00, 306.36it/s, loss=0.6934070509413014]\n"
     ]
    },
    {
     "name": "stdout",
     "output_type": "stream",
     "text": [
      "Epoch 17 train (loss: 0.6934, f1 score: 0.4348) test (loss: 0.6949, f1 score: 0.2857)\n"
     ]
    },
    {
     "name": "stderr",
     "output_type": "stream",
     "text": [
      "100%|████████████████████████████████████████████████████████| 23/23 [00:00<00:00, 328.92it/s, loss=0.6945173818132152]\n"
     ]
    },
    {
     "name": "stdout",
     "output_type": "stream",
     "text": [
      "Epoch 18 train (loss: 0.6945, f1 score: 0.4692) test (loss: 0.6898, f1 score: 0.3750)\n"
     ]
    },
    {
     "name": "stderr",
     "output_type": "stream",
     "text": [
      "100%|████████████████████████████████████████████████████████| 23/23 [00:00<00:00, 306.35it/s, loss=0.6920596205669901]\n"
     ]
    },
    {
     "name": "stdout",
     "output_type": "stream",
     "text": [
      "Epoch 19 train (loss: 0.6921, f1 score: 0.3429) test (loss: 0.6899, f1 score: 0.3750)\n"
     ]
    },
    {
     "name": "stderr",
     "output_type": "stream",
     "text": [
      "100%|████████████████████████████████████████████████████████| 23/23 [00:00<00:00, 310.18it/s, loss=0.6925507628399393]\n"
     ]
    },
    {
     "name": "stdout",
     "output_type": "stream",
     "text": [
      "Epoch 20 train (loss: 0.6926, f1 score: 0.3429) test (loss: 0.6886, f1 score: 0.3750)\n"
     ]
    },
    {
     "name": "stderr",
     "output_type": "stream",
     "text": [
      "100%|████████████████████████████████████████████████████████| 23/23 [00:00<00:00, 314.64it/s, loss=0.6926553741745327]\n"
     ]
    },
    {
     "name": "stdout",
     "output_type": "stream",
     "text": [
      "Epoch 21 train (loss: 0.6927, f1 score: 0.4363) test (loss: 0.6909, f1 score: 0.3750)\n"
     ]
    },
    {
     "name": "stderr",
     "output_type": "stream",
     "text": [
      "100%|█████████████████████████████████████████████████████████| 23/23 [00:00<00:00, 302.24it/s, loss=0.692196161850639]\n"
     ]
    },
    {
     "name": "stdout",
     "output_type": "stream",
     "text": [
      "Epoch 22 train (loss: 0.6922, f1 score: 0.3429) test (loss: 0.6867, f1 score: 0.3750)\n"
     ]
    },
    {
     "name": "stderr",
     "output_type": "stream",
     "text": [
      "100%|████████████████████████████████████████████████████████| 23/23 [00:00<00:00, 318.24it/s, loss=0.6901669346767924]\n"
     ]
    },
    {
     "name": "stdout",
     "output_type": "stream",
     "text": [
      "Epoch 23 train (loss: 0.6902, f1 score: 0.3429) test (loss: 0.6855, f1 score: 0.3750)\n"
     ]
    },
    {
     "name": "stderr",
     "output_type": "stream",
     "text": [
      "100%|████████████████████████████████████████████████████████| 23/23 [00:00<00:00, 310.74it/s, loss=0.6928873580435048]\n"
     ]
    },
    {
     "name": "stdout",
     "output_type": "stream",
     "text": [
      "Epoch 24 train (loss: 0.6929, f1 score: 0.3030) test (loss: 0.6874, f1 score: 0.3750)\n"
     ]
    },
    {
     "name": "stderr",
     "output_type": "stream",
     "text": [
      "100%|████████████████████████████████████████████████████████| 23/23 [00:00<00:00, 306.29it/s, loss=0.6890710514524708]\n"
     ]
    },
    {
     "name": "stdout",
     "output_type": "stream",
     "text": [
      "Epoch 25 train (loss: 0.6891, f1 score: 0.3429) test (loss: 0.6838, f1 score: 0.3750)\n"
     ]
    },
    {
     "name": "stderr",
     "output_type": "stream",
     "text": [
      "100%|████████████████████████████████████████████████████████| 23/23 [00:00<00:00, 323.87it/s, loss=0.6901334394579348]\n"
     ]
    },
    {
     "name": "stdout",
     "output_type": "stream",
     "text": [
      "Epoch 26 train (loss: 0.6901, f1 score: 0.5068) test (loss: 0.6874, f1 score: 0.7619)\n"
     ]
    },
    {
     "name": "stderr",
     "output_type": "stream",
     "text": [
      "100%|████████████████████████████████████████████████████████| 23/23 [00:00<00:00, 323.87it/s, loss=0.6843821186086406]\n"
     ]
    },
    {
     "name": "stdout",
     "output_type": "stream",
     "text": [
      "Epoch 27 train (loss: 0.6844, f1 score: 0.3429) test (loss: 0.6488, f1 score: 0.3750)\n"
     ]
    },
    {
     "name": "stderr",
     "output_type": "stream",
     "text": [
      "100%|████████████████████████████████████████████████████████| 23/23 [00:00<00:00, 310.74it/s, loss=0.6559912342092266]\n"
     ]
    },
    {
     "name": "stdout",
     "output_type": "stream",
     "text": [
      "Epoch 28 train (loss: 0.6560, f1 score: 0.3429) test (loss: 0.6883, f1 score: 0.3750)\n"
     ]
    },
    {
     "name": "stderr",
     "output_type": "stream",
     "text": [
      "100%|█████████████████████████████████████████████████████████| 23/23 [00:00<00:00, 315.00it/s, loss=0.689429433449455]\n"
     ]
    },
    {
     "name": "stdout",
     "output_type": "stream",
     "text": [
      "Epoch 29 train (loss: 0.6894, f1 score: 0.6087) test (loss: 0.6916, f1 score: 0.5833)\n"
     ]
    },
    {
     "name": "stderr",
     "output_type": "stream",
     "text": [
      "100%|████████████████████████████████████████████████████████| 23/23 [00:00<00:00, 315.00it/s, loss=0.6884349480919216]\n"
     ]
    },
    {
     "name": "stdout",
     "output_type": "stream",
     "text": [
      "Epoch 30 train (loss: 0.6884, f1 score: 0.7262) test (loss: 0.6910, f1 score: 0.5833)\n"
     ]
    },
    {
     "name": "stderr",
     "output_type": "stream",
     "text": [
      "100%|████████████████████████████████████████████████████████| 23/23 [00:00<00:00, 306.90it/s, loss=0.6866483299628549]\n"
     ]
    },
    {
     "name": "stdout",
     "output_type": "stream",
     "text": [
      "Epoch 31 train (loss: 0.6866, f1 score: 0.7346) test (loss: 0.6891, f1 score: 0.8000)\n"
     ]
    },
    {
     "name": "stderr",
     "output_type": "stream",
     "text": [
      "100%|████████████████████████████████████████████████████████| 23/23 [00:00<00:00, 314.42it/s, loss=0.6843405910160231]\n"
     ]
    },
    {
     "name": "stdout",
     "output_type": "stream",
     "text": [
      "Epoch 32 train (loss: 0.6843, f1 score: 0.7346) test (loss: 0.6873, f1 score: 0.8000)\n"
     ]
    },
    {
     "name": "stderr",
     "output_type": "stream",
     "text": [
      "100%|████████████████████████████████████████████████████████| 23/23 [00:00<00:00, 314.38it/s, loss=0.6659121046895566]\n"
     ]
    },
    {
     "name": "stdout",
     "output_type": "stream",
     "text": [
      "Epoch 33 train (loss: 0.6659, f1 score: 0.7262) test (loss: 0.6754, f1 score: 0.7619)\n"
     ]
    },
    {
     "name": "stderr",
     "output_type": "stream",
     "text": [
      "100%|████████████████████████████████████████████████████████| 23/23 [00:00<00:00, 323.17it/s, loss=0.6284052263135496]\n"
     ]
    },
    {
     "name": "stdout",
     "output_type": "stream",
     "text": [
      "Epoch 34 train (loss: 0.6284, f1 score: 0.7346) test (loss: 0.6114, f1 score: 0.5833)\n"
     ]
    },
    {
     "name": "stderr",
     "output_type": "stream",
     "text": [
      "100%|████████████████████████████████████████████████████████| 23/23 [00:00<00:00, 323.87it/s, loss=0.7050990851029105]\n"
     ]
    },
    {
     "name": "stdout",
     "output_type": "stream",
     "text": [
      "Epoch 35 train (loss: 0.7051, f1 score: 0.5801) test (loss: 0.6002, f1 score: 0.3750)\n"
     ]
    },
    {
     "name": "stderr",
     "output_type": "stream",
     "text": [
      "100%|████████████████████████████████████████████████████████| 23/23 [00:00<00:00, 309.40it/s, loss=0.7106530316497969]\n"
     ]
    },
    {
     "name": "stdout",
     "output_type": "stream",
     "text": [
      "Epoch 36 train (loss: 0.7107, f1 score: 0.3429) test (loss: 0.5979, f1 score: 0.3750)\n"
     ]
    },
    {
     "name": "stderr",
     "output_type": "stream",
     "text": [
      "100%|████████████████████████████████████████████████████████| 23/23 [00:00<00:00, 302.56it/s, loss=0.6856824289197507]\n"
     ]
    },
    {
     "name": "stdout",
     "output_type": "stream",
     "text": [
      "Epoch 37 train (loss: 0.6857, f1 score: 0.4363) test (loss: 0.5987, f1 score: 0.7619)\n"
     ]
    },
    {
     "name": "stderr",
     "output_type": "stream",
     "text": [
      "100%|████████████████████████████████████████████████████████| 23/23 [00:00<00:00, 310.33it/s, loss=0.6828627573407214]\n"
     ]
    },
    {
     "name": "stdout",
     "output_type": "stream",
     "text": [
      "Epoch 38 train (loss: 0.6829, f1 score: 0.4363) test (loss: 0.6028, f1 score: 0.7619)\n"
     ]
    },
    {
     "name": "stderr",
     "output_type": "stream",
     "text": [
      "100%|████████████████████████████████████████████████████████| 23/23 [00:00<00:00, 323.87it/s, loss=0.6640202027300129]\n"
     ]
    },
    {
     "name": "stdout",
     "output_type": "stream",
     "text": [
      "Epoch 39 train (loss: 0.6640, f1 score: 0.5175) test (loss: 0.6108, f1 score: 0.7619)\n"
     ]
    },
    {
     "name": "stderr",
     "output_type": "stream",
     "text": [
      "100%|████████████████████████████████████████████████████████| 23/23 [00:00<00:00, 315.23it/s, loss=0.6603083053360814]\n"
     ]
    },
    {
     "name": "stdout",
     "output_type": "stream",
     "text": [
      "Epoch 40 train (loss: 0.6603, f1 score: 0.5893) test (loss: 0.6043, f1 score: 0.7619)\n"
     ]
    },
    {
     "name": "stderr",
     "output_type": "stream",
     "text": [
      "100%|████████████████████████████████████████████████████████| 23/23 [00:00<00:00, 313.94it/s, loss=0.6621605455875397]\n"
     ]
    },
    {
     "name": "stdout",
     "output_type": "stream",
     "text": [
      "Epoch 41 train (loss: 0.6622, f1 score: 0.6167) test (loss: 0.5970, f1 score: 0.7619)\n"
     ]
    },
    {
     "name": "stderr",
     "output_type": "stream",
     "text": [
      "100%|████████████████████████████████████████████████████████| 23/23 [00:00<00:00, 318.70it/s, loss=0.6560492684011874]\n"
     ]
    },
    {
     "name": "stdout",
     "output_type": "stream",
     "text": [
      "Epoch 42 train (loss: 0.6560, f1 score: 0.6167) test (loss: 0.5770, f1 score: 0.7619)\n"
     ]
    },
    {
     "name": "stderr",
     "output_type": "stream",
     "text": [
      "100%|████████████████████████████████████████████████████████| 23/23 [00:00<00:00, 310.30it/s, loss=0.6883507759674735]\n"
     ]
    },
    {
     "name": "stdout",
     "output_type": "stream",
     "text": [
      "Epoch 43 train (loss: 0.6884, f1 score: 0.5437) test (loss: 0.6056, f1 score: 0.7619)\n"
     ]
    },
    {
     "name": "stderr",
     "output_type": "stream",
     "text": [
      "100%|█████████████████████████████████████████████████████████| 23/23 [00:00<00:00, 322.57it/s, loss=0.700492887393288]\n"
     ]
    },
    {
     "name": "stdout",
     "output_type": "stream",
     "text": [
      "Epoch 44 train (loss: 0.7005, f1 score: 0.3429) test (loss: 0.6646, f1 score: 0.3750)\n"
     ]
    },
    {
     "name": "stderr",
     "output_type": "stream",
     "text": [
      "100%|████████████████████████████████████████████████████████| 23/23 [00:00<00:00, 321.38it/s, loss=0.6940531912057296]\n"
     ]
    },
    {
     "name": "stdout",
     "output_type": "stream",
     "text": [
      "Epoch 45 train (loss: 0.6941, f1 score: 0.3429) test (loss: 0.6647, f1 score: 0.3750)\n"
     ]
    },
    {
     "name": "stderr",
     "output_type": "stream",
     "text": [
      "100%|████████████████████████████████████████████████████████| 23/23 [00:00<00:00, 314.98it/s, loss=0.6884762411532195]\n"
     ]
    },
    {
     "name": "stdout",
     "output_type": "stream",
     "text": [
      "Epoch 46 train (loss: 0.6885, f1 score: 0.3429) test (loss: 0.6696, f1 score: 0.3750)\n"
     ]
    },
    {
     "name": "stderr",
     "output_type": "stream",
     "text": [
      "100%|████████████████████████████████████████████████████████| 23/23 [00:00<00:00, 315.00it/s, loss=0.6807805455249288]\n"
     ]
    },
    {
     "name": "stdout",
     "output_type": "stream",
     "text": [
      "Epoch 47 train (loss: 0.6808, f1 score: 0.3429) test (loss: 0.6550, f1 score: 0.3750)\n"
     ]
    },
    {
     "name": "stderr",
     "output_type": "stream",
     "text": [
      "100%|████████████████████████████████████████████████████████| 23/23 [00:00<00:00, 314.45it/s, loss=0.6788517573605413]\n"
     ]
    },
    {
     "name": "stdout",
     "output_type": "stream",
     "text": [
      "Epoch 48 train (loss: 0.6789, f1 score: 0.3429) test (loss: 0.6738, f1 score: 0.7619)\n"
     ]
    },
    {
     "name": "stderr",
     "output_type": "stream",
     "text": [
      "100%|████████████████████████████████████████████████████████| 23/23 [00:00<00:00, 326.29it/s, loss=0.6770646338877471]\n"
     ]
    },
    {
     "name": "stdout",
     "output_type": "stream",
     "text": [
      "Epoch 49 train (loss: 0.6771, f1 score: 0.5208) test (loss: 0.7184, f1 score: 0.2857)\n"
     ]
    },
    {
     "name": "stderr",
     "output_type": "stream",
     "text": [
      "100%|████████████████████████████████████████████████████████| 23/23 [00:00<00:00, 309.88it/s, loss=0.6945376499839451]\n"
     ]
    },
    {
     "name": "stdout",
     "output_type": "stream",
     "text": [
      "Epoch 50 train (loss: 0.6945, f1 score: 0.4103) test (loss: 0.6998, f1 score: 0.2857)\n"
     ]
    },
    {
     "name": "stderr",
     "output_type": "stream",
     "text": [
      "100%|█████████████████████████████████████████████████████████| 23/23 [00:00<00:00, 280.42it/s, loss=0.669053878473199]\n"
     ]
    },
    {
     "name": "stdout",
     "output_type": "stream",
     "text": [
      "Epoch 51 train (loss: 0.6691, f1 score: 0.5437) test (loss: 0.6500, f1 score: 0.5833)\n"
     ]
    },
    {
     "name": "stderr",
     "output_type": "stream",
     "text": [
      "100%|████████████████████████████████████████████████████████| 23/23 [00:00<00:00, 319.37it/s, loss=0.6592173485652261]\n"
     ]
    },
    {
     "name": "stdout",
     "output_type": "stream",
     "text": [
      "Epoch 52 train (loss: 0.6592, f1 score: 0.6462) test (loss: 0.6758, f1 score: 0.5833)\n"
     ]
    },
    {
     "name": "stderr",
     "output_type": "stream",
     "text": [
      "100%|████████████████████████████████████████████████████████| 23/23 [00:00<00:00, 323.58it/s, loss=0.6418840366861095]\n"
     ]
    },
    {
     "name": "stdout",
     "output_type": "stream",
     "text": [
      "Epoch 53 train (loss: 0.6419, f1 score: 0.7346) test (loss: 0.6645, f1 score: 0.4000)\n"
     ]
    },
    {
     "name": "stderr",
     "output_type": "stream",
     "text": [
      "100%|████████████████████████████████████████████████████████| 23/23 [00:00<00:00, 300.95it/s, loss=0.6623419950837675]\n"
     ]
    },
    {
     "name": "stdout",
     "output_type": "stream",
     "text": [
      "Epoch 54 train (loss: 0.6623, f1 score: 0.6462) test (loss: 0.6630, f1 score: 0.3750)\n"
     ]
    },
    {
     "name": "stderr",
     "output_type": "stream",
     "text": [
      "100%|████████████████████████████████████████████████████████| 23/23 [00:00<00:00, 333.26it/s, loss=0.7023540890735128]\n"
     ]
    },
    {
     "name": "stdout",
     "output_type": "stream",
     "text": [
      "Epoch 55 train (loss: 0.7024, f1 score: 0.3429) test (loss: 0.6600, f1 score: 0.3750)\n"
     ]
    },
    {
     "name": "stderr",
     "output_type": "stream",
     "text": [
      "100%|████████████████████████████████████████████████████████| 23/23 [00:00<00:00, 287.44it/s, loss=0.6886044261248215]\n"
     ]
    },
    {
     "name": "stdout",
     "output_type": "stream",
     "text": [
      "Epoch 56 train (loss: 0.6886, f1 score: 0.3429) test (loss: 0.6585, f1 score: 0.3750)\n"
     ]
    },
    {
     "name": "stderr",
     "output_type": "stream",
     "text": [
      "100%|████████████████████████████████████████████████████████| 23/23 [00:00<00:00, 306.23it/s, loss=0.6741657373697861]\n"
     ]
    },
    {
     "name": "stdout",
     "output_type": "stream",
     "text": [
      "Epoch 57 train (loss: 0.6742, f1 score: 0.4363) test (loss: 0.6500, f1 score: 0.3750)\n"
     ]
    },
    {
     "name": "stderr",
     "output_type": "stream",
     "text": [
      "100%|█████████████████████████████████████████████████████████| 23/23 [00:00<00:00, 310.43it/s, loss=0.664524001919705]\n"
     ]
    },
    {
     "name": "stdout",
     "output_type": "stream",
     "text": [
      "Epoch 58 train (loss: 0.6645, f1 score: 0.3839) test (loss: 0.6057, f1 score: 0.7619)\n"
     ]
    },
    {
     "name": "stderr",
     "output_type": "stream",
     "text": [
      "100%|█████████████████████████████████████████████████████████| 23/23 [00:00<00:00, 306.07it/s, loss=0.607202278531116]\n"
     ]
    },
    {
     "name": "stdout",
     "output_type": "stream",
     "text": [
      "Epoch 59 train (loss: 0.6072, f1 score: 0.6862) test (loss: 0.7360, f1 score: 0.4000)\n"
     ]
    },
    {
     "name": "stderr",
     "output_type": "stream",
     "text": [
      "100%|████████████████████████████████████████████████████████| 23/23 [00:00<00:00, 315.00it/s, loss=0.6441070670666902]\n"
     ]
    },
    {
     "name": "stdout",
     "output_type": "stream",
     "text": [
      "Epoch 60 train (loss: 0.6441, f1 score: 0.6349) test (loss: 0.7935, f1 score: 0.2857)\n"
     ]
    },
    {
     "name": "stderr",
     "output_type": "stream",
     "text": [
      "100%|████████████████████████████████████████████████████████| 23/23 [00:00<00:00, 332.75it/s, loss=0.6903102164683135]\n"
     ]
    },
    {
     "name": "stdout",
     "output_type": "stream",
     "text": [
      "Epoch 61 train (loss: 0.6903, f1 score: 0.4103) test (loss: 0.7207, f1 score: 0.5833)\n"
     ]
    },
    {
     "name": "stderr",
     "output_type": "stream",
     "text": [
      "100%|██████████████████████████████████████████████████████████| 23/23 [00:00<00:00, 318.36it/s, loss=0.66626471021901]\n"
     ]
    },
    {
     "name": "stdout",
     "output_type": "stream",
     "text": [
      "Epoch 62 train (loss: 0.6663, f1 score: 0.5965) test (loss: 0.7010, f1 score: 0.4000)\n"
     ]
    },
    {
     "name": "stderr",
     "output_type": "stream",
     "text": [
      "100%|████████████████████████████████████████████████████████| 23/23 [00:00<00:00, 315.00it/s, loss=0.6432590847430022]\n"
     ]
    },
    {
     "name": "stdout",
     "output_type": "stream",
     "text": [
      "Epoch 63 train (loss: 0.6433, f1 score: 0.6957) test (loss: 0.6888, f1 score: 0.4000)\n"
     ]
    },
    {
     "name": "stderr",
     "output_type": "stream",
     "text": [
      "100%|████████████████████████████████████████████████████████| 23/23 [00:00<00:00, 328.03it/s, loss=0.6075466599153436]\n"
     ]
    },
    {
     "name": "stdout",
     "output_type": "stream",
     "text": [
      "Epoch 64 train (loss: 0.6075, f1 score: 0.7810) test (loss: 0.7244, f1 score: 0.4000)\n"
     ]
    },
    {
     "name": "stderr",
     "output_type": "stream",
     "text": [
      "100%|████████████████████████████████████████████████████████| 23/23 [00:00<00:00, 327.10it/s, loss=0.5847759013590605]\n"
     ]
    },
    {
     "name": "stdout",
     "output_type": "stream",
     "text": [
      "Epoch 65 train (loss: 0.5848, f1 score: 0.6957) test (loss: 0.4748, f1 score: 0.7619)\n"
     ]
    },
    {
     "name": "stderr",
     "output_type": "stream",
     "text": [
      "100%|████████████████████████████████████████████████████████| 23/23 [00:00<00:00, 314.45it/s, loss=0.6233955103418102]\n"
     ]
    },
    {
     "name": "stdout",
     "output_type": "stream",
     "text": [
      "Epoch 66 train (loss: 0.6234, f1 score: 0.6087) test (loss: 0.8848, f1 score: 0.2857)\n"
     ]
    },
    {
     "name": "stderr",
     "output_type": "stream",
     "text": [
      "100%|████████████████████████████████████████████████████████| 23/23 [00:00<00:00, 310.73it/s, loss=0.8033863189427749]\n"
     ]
    },
    {
     "name": "stdout",
     "output_type": "stream",
     "text": [
      "Epoch 67 train (loss: 0.8034, f1 score: 0.3235) test (loss: 0.8599, f1 score: 0.2857)\n"
     ]
    },
    {
     "name": "stderr",
     "output_type": "stream",
     "text": [
      "100%|████████████████████████████████████████████████████████| 23/23 [00:00<00:00, 318.15it/s, loss=0.7732359896535459]\n"
     ]
    },
    {
     "name": "stdout",
     "output_type": "stream",
     "text": [
      "Epoch 68 train (loss: 0.7732, f1 score: 0.3235) test (loss: 0.7957, f1 score: 0.2857)\n"
     ]
    },
    {
     "name": "stderr",
     "output_type": "stream",
     "text": [
      "100%|████████████████████████████████████████████████████████| 23/23 [00:00<00:00, 328.50it/s, loss=0.7241582948228588]\n"
     ]
    },
    {
     "name": "stdout",
     "output_type": "stream",
     "text": [
      "Epoch 69 train (loss: 0.7242, f1 score: 0.3235) test (loss: 0.7601, f1 score: 0.2857)\n"
     ]
    },
    {
     "name": "stderr",
     "output_type": "stream",
     "text": [
      "100%|████████████████████████████████████████████████████████| 23/23 [00:00<00:00, 320.45it/s, loss=0.6359762614187987]\n"
     ]
    },
    {
     "name": "stdout",
     "output_type": "stream",
     "text": [
      "Epoch 70 train (loss: 0.6360, f1 score: 0.6734) test (loss: 0.6217, f1 score: 0.8000)\n"
     ]
    },
    {
     "name": "stderr",
     "output_type": "stream",
     "text": [
      "100%|████████████████████████████████████████████████████████| 23/23 [00:00<00:00, 327.38it/s, loss=0.6041209555190542]\n"
     ]
    },
    {
     "name": "stdout",
     "output_type": "stream",
     "text": [
      "Epoch 71 train (loss: 0.6041, f1 score: 0.7810) test (loss: 0.5769, f1 score: 0.8000)\n"
     ]
    },
    {
     "name": "stderr",
     "output_type": "stream",
     "text": [
      "100%|████████████████████████████████████████████████████████| 23/23 [00:00<00:00, 310.74it/s, loss=0.5742201040620389]\n"
     ]
    },
    {
     "name": "stdout",
     "output_type": "stream",
     "text": [
      "Epoch 72 train (loss: 0.5742, f1 score: 0.8258) test (loss: 0.5941, f1 score: 0.8000)\n"
     ]
    },
    {
     "name": "stderr",
     "output_type": "stream",
     "text": [
      "100%|████████████████████████████████████████████████████████| 23/23 [00:00<00:00, 328.50it/s, loss=0.5452257265215334]\n"
     ]
    },
    {
     "name": "stdout",
     "output_type": "stream",
     "text": [
      "Epoch 73 train (loss: 0.5452, f1 score: 0.7386) test (loss: 0.6749, f1 score: 0.5833)\n"
     ]
    },
    {
     "name": "stderr",
     "output_type": "stream",
     "text": [
      "100%|█████████████████████████████████████████████████████████| 23/23 [00:00<00:00, 318.62it/s, loss=0.621940060802128]\n"
     ]
    },
    {
     "name": "stdout",
     "output_type": "stream",
     "text": [
      "Epoch 74 train (loss: 0.6219, f1 score: 0.5548) test (loss: 0.7141, f1 score: 0.5833)\n"
     ]
    },
    {
     "name": "stderr",
     "output_type": "stream",
     "text": [
      "100%|████████████████████████████████████████████████████████| 23/23 [00:00<00:00, 314.60it/s, loss=0.5457748252412548]\n"
     ]
    },
    {
     "name": "stdout",
     "output_type": "stream",
     "text": [
      "Epoch 75 train (loss: 0.5458, f1 score: 0.7758) test (loss: 0.6431, f1 score: 0.5833)\n"
     ]
    },
    {
     "name": "stderr",
     "output_type": "stream",
     "text": [
      "100%|████████████████████████████████████████████████████████| 23/23 [00:00<00:00, 327.99it/s, loss=0.5101853168529012]\n"
     ]
    },
    {
     "name": "stdout",
     "output_type": "stream",
     "text": [
      "Epoch 76 train (loss: 0.5102, f1 score: 0.8258) test (loss: 0.6997, f1 score: 0.4000)\n"
     ]
    },
    {
     "name": "stderr",
     "output_type": "stream",
     "text": [
      "100%|████████████████████████████████████████████████████████| 23/23 [00:00<00:00, 328.50it/s, loss=0.5068457929984383]\n"
     ]
    },
    {
     "name": "stdout",
     "output_type": "stream",
     "text": [
      "Epoch 77 train (loss: 0.5068, f1 score: 0.8231) test (loss: 0.7249, f1 score: 0.4000)\n"
     ]
    },
    {
     "name": "stderr",
     "output_type": "stream",
     "text": [
      "100%|████████████████████████████████████████████████████████| 23/23 [00:00<00:00, 319.38it/s, loss=0.4812431154043778]\n"
     ]
    },
    {
     "name": "stdout",
     "output_type": "stream",
     "text": [
      "Epoch 78 train (loss: 0.4812, f1 score: 0.7826) test (loss: 0.6864, f1 score: 0.5833)\n"
     ]
    },
    {
     "name": "stderr",
     "output_type": "stream",
     "text": [
      "100%|███████████████████████████████████████████████████████| 23/23 [00:00<00:00, 310.10it/s, loss=0.48282549821812176]\n"
     ]
    },
    {
     "name": "stdout",
     "output_type": "stream",
     "text": [
      "Epoch 79 train (loss: 0.4828, f1 score: 0.8696) test (loss: 0.6158, f1 score: 0.5833)\n"
     ]
    },
    {
     "name": "stderr",
     "output_type": "stream",
     "text": [
      "100%|████████████████████████████████████████████████████████| 23/23 [00:00<00:00, 314.99it/s, loss=0.4744500323482182]\n"
     ]
    },
    {
     "name": "stdout",
     "output_type": "stream",
     "text": [
      "Epoch 80 train (loss: 0.4745, f1 score: 0.8696) test (loss: 0.7263, f1 score: 0.5833)\n"
     ]
    },
    {
     "name": "stderr",
     "output_type": "stream",
     "text": [
      "100%|████████████████████████████████████████████████████████| 23/23 [00:00<00:00, 319.86it/s, loss=0.5372381741585939]\n"
     ]
    },
    {
     "name": "stdout",
     "output_type": "stream",
     "text": [
      "Epoch 81 train (loss: 0.5372, f1 score: 0.7826) test (loss: 0.7820, f1 score: 0.4000)\n"
     ]
    },
    {
     "name": "stderr",
     "output_type": "stream",
     "text": [
      "100%|███████████████████████████████████████████████████████| 23/23 [00:00<00:00, 319.08it/s, loss=0.49361947308415954]\n"
     ]
    },
    {
     "name": "stdout",
     "output_type": "stream",
     "text": [
      "Epoch 82 train (loss: 0.4936, f1 score: 0.7810) test (loss: 0.7867, f1 score: 0.4000)\n"
     ]
    },
    {
     "name": "stderr",
     "output_type": "stream",
     "text": [
      "100%|████████████████████████████████████████████████████████| 23/23 [00:00<00:00, 317.34it/s, loss=0.4704782716605974]\n"
     ]
    },
    {
     "name": "stdout",
     "output_type": "stream",
     "text": [
      "Epoch 83 train (loss: 0.4705, f1 score: 0.8258) test (loss: 0.7954, f1 score: 0.4000)\n"
     ]
    },
    {
     "name": "stderr",
     "output_type": "stream",
     "text": [
      "100%|███████████████████████████████████████████████████████| 23/23 [00:00<00:00, 323.44it/s, loss=0.45601162832716235]\n"
     ]
    },
    {
     "name": "stdout",
     "output_type": "stream",
     "text": [
      "Epoch 84 train (loss: 0.4560, f1 score: 0.8686) test (loss: 0.8610, f1 score: 0.4000)\n"
     ]
    },
    {
     "name": "stderr",
     "output_type": "stream",
     "text": [
      "100%|███████████████████████████████████████████████████████| 23/23 [00:00<00:00, 320.00it/s, loss=0.46786348068195843]\n"
     ]
    },
    {
     "name": "stdout",
     "output_type": "stream",
     "text": [
      "Epoch 85 train (loss: 0.4679, f1 score: 0.8258) test (loss: 0.8642, f1 score: 0.4000)\n"
     ]
    },
    {
     "name": "stderr",
     "output_type": "stream",
     "text": [
      "100%|████████████████████████████████████████████████████████| 23/23 [00:00<00:00, 314.63it/s, loss=0.5149474545665409]\n"
     ]
    },
    {
     "name": "stdout",
     "output_type": "stream",
     "text": [
      "Epoch 86 train (loss: 0.5149, f1 score: 0.7810) test (loss: 0.7503, f1 score: 0.5833)\n"
     ]
    },
    {
     "name": "stderr",
     "output_type": "stream",
     "text": [
      "100%|████████████████████████████████████████████████████████| 23/23 [00:00<00:00, 319.37it/s, loss=0.4908440411090851]\n"
     ]
    },
    {
     "name": "stdout",
     "output_type": "stream",
     "text": [
      "Epoch 87 train (loss: 0.4908, f1 score: 0.7810) test (loss: 0.7437, f1 score: 0.4000)\n"
     ]
    },
    {
     "name": "stderr",
     "output_type": "stream",
     "text": [
      "100%|████████████████████████████████████████████████████████| 23/23 [00:00<00:00, 319.38it/s, loss=0.4692376644715019]\n"
     ]
    },
    {
     "name": "stdout",
     "output_type": "stream",
     "text": [
      "Epoch 88 train (loss: 0.4692, f1 score: 0.8696) test (loss: 0.8147, f1 score: 0.4000)\n"
     ]
    },
    {
     "name": "stderr",
     "output_type": "stream",
     "text": [
      "100%|█████████████████████████████████████████████████████████| 23/23 [00:00<00:00, 315.00it/s, loss=0.469601096018501]\n"
     ]
    },
    {
     "name": "stdout",
     "output_type": "stream",
     "text": [
      "Epoch 89 train (loss: 0.4696, f1 score: 0.8686) test (loss: 0.8056, f1 score: 0.4000)\n"
     ]
    },
    {
     "name": "stderr",
     "output_type": "stream",
     "text": [
      "100%|████████████████████████████████████████████████████████| 23/23 [00:00<00:00, 294.81it/s, loss=0.5295785613681959]\n"
     ]
    },
    {
     "name": "stdout",
     "output_type": "stream",
     "text": [
      "Epoch 90 train (loss: 0.5296, f1 score: 0.7346) test (loss: 0.7871, f1 score: 0.2857)\n"
     ]
    },
    {
     "name": "stderr",
     "output_type": "stream",
     "text": [
      "100%|███████████████████████████████████████████████████████| 23/23 [00:00<00:00, 327.05it/s, loss=0.45969317659087805]\n"
     ]
    },
    {
     "name": "stdout",
     "output_type": "stream",
     "text": [
      "Epoch 91 train (loss: 0.4597, f1 score: 0.8696) test (loss: 0.8439, f1 score: 0.4000)\n"
     ]
    },
    {
     "name": "stderr",
     "output_type": "stream",
     "text": [
      "100%|████████████████████████████████████████████████████████| 23/23 [00:00<00:00, 323.87it/s, loss=0.4389063106930774]\n"
     ]
    },
    {
     "name": "stdout",
     "output_type": "stream",
     "text": [
      "Epoch 92 train (loss: 0.4389, f1 score: 0.8686) test (loss: 0.7587, f1 score: 0.5833)\n"
     ]
    },
    {
     "name": "stderr",
     "output_type": "stream",
     "text": [
      "100%|████████████████████████████████████████████████████████| 23/23 [00:00<00:00, 328.50it/s, loss=0.4169324843779854]\n"
     ]
    },
    {
     "name": "stdout",
     "output_type": "stream",
     "text": [
      "Epoch 93 train (loss: 0.4169, f1 score: 0.9129) test (loss: 0.9287, f1 score: 0.4000)\n"
     ]
    },
    {
     "name": "stderr",
     "output_type": "stream",
     "text": [
      "100%|████████████████████████████████████████████████████████| 23/23 [00:00<00:00, 332.98it/s, loss=0.4594186259352643]\n"
     ]
    },
    {
     "name": "stdout",
     "output_type": "stream",
     "text": [
      "Epoch 94 train (loss: 0.4594, f1 score: 0.8696) test (loss: 0.9082, f1 score: 0.4000)\n"
     ]
    },
    {
     "name": "stderr",
     "output_type": "stream",
     "text": [
      "100%|████████████████████████████████████████████████████████| 23/23 [00:00<00:00, 314.78it/s, loss=0.5045428405637327]\n"
     ]
    },
    {
     "name": "stdout",
     "output_type": "stream",
     "text": [
      "Epoch 95 train (loss: 0.5045, f1 score: 0.8231) test (loss: 0.9054, f1 score: 0.2857)\n"
     ]
    },
    {
     "name": "stderr",
     "output_type": "stream",
     "text": [
      "100%|████████████████████████████████████████████████████████| 23/23 [00:00<00:00, 333.25it/s, loss=0.5426483970621357]\n"
     ]
    },
    {
     "name": "stdout",
     "output_type": "stream",
     "text": [
      "Epoch 96 train (loss: 0.5426, f1 score: 0.7667) test (loss: 0.7499, f1 score: 0.5833)\n"
     ]
    },
    {
     "name": "stderr",
     "output_type": "stream",
     "text": [
      "100%|████████████████████████████████████████████████████████| 23/23 [00:00<00:00, 333.26it/s, loss=0.5584303905134615]\n"
     ]
    },
    {
     "name": "stdout",
     "output_type": "stream",
     "text": [
      "Epoch 97 train (loss: 0.5584, f1 score: 0.7346) test (loss: 0.7878, f1 score: 0.4000)\n"
     ]
    },
    {
     "name": "stderr",
     "output_type": "stream",
     "text": [
      "100%|████████████████████████████████████████████████████████| 23/23 [00:00<00:00, 316.27it/s, loss=0.5362329573734946]\n"
     ]
    },
    {
     "name": "stdout",
     "output_type": "stream",
     "text": [
      "Epoch 98 train (loss: 0.5362, f1 score: 0.7758) test (loss: 0.8980, f1 score: 0.4000)\n"
     ]
    },
    {
     "name": "stderr",
     "output_type": "stream",
     "text": [
      "100%|████████████████████████████████████████████████████████| 23/23 [00:00<00:00, 323.87it/s, loss=0.4881136974562769]\n"
     ]
    },
    {
     "name": "stdout",
     "output_type": "stream",
     "text": [
      "Epoch 99 train (loss: 0.4881, f1 score: 0.8175) test (loss: 0.7120, f1 score: 0.5833)\n"
     ]
    },
    {
     "name": "stderr",
     "output_type": "stream",
     "text": [
      "100%|████████████████████████████████████████████████████████| 23/23 [00:00<00:00, 323.45it/s, loss=0.5703058877716893]"
     ]
    },
    {
     "name": "stdout",
     "output_type": "stream",
     "text": [
      "Epoch 100 train (loss: 0.5703, f1 score: 0.7346) test (loss: 0.9043, f1 score: 0.4000)\n"
     ]
    },
    {
     "name": "stderr",
     "output_type": "stream",
     "text": [
      "\n"
     ]
    }
   ],
   "source": [
    "model = SequenceModel(input_size=225, output_size=2)\n",
    "criterion = nn.CrossEntropyLoss()\n",
    "optimizer = torch.optim.Adam(model.parameters(), lr=0.001)\n",
    "train_model(model, 100, criterion, optimizer)"
   ]
  },
  {
   "cell_type": "code",
   "execution_count": null,
   "metadata": {},
   "outputs": [],
   "source": []
  },
  {
   "cell_type": "code",
   "execution_count": null,
   "metadata": {},
   "outputs": [],
   "source": []
  }
 ],
 "metadata": {
  "colab": {
   "provenance": []
  },
  "kernelspec": {
   "display_name": "Python 3 (ipykernel)",
   "language": "python",
   "name": "python3"
  },
  "language_info": {
   "codemirror_mode": {
    "name": "ipython",
    "version": 3
   },
   "file_extension": ".py",
   "mimetype": "text/x-python",
   "name": "python",
   "nbconvert_exporter": "python",
   "pygments_lexer": "ipython3",
   "version": "3.11.3"
  }
 },
 "nbformat": 4,
 "nbformat_minor": 4
}
